{
 "cells": [
  {
   "cell_type": "markdown",
   "metadata": {
    "colab_type": "text",
    "id": "WJoBPD_eCzUx"
   },
   "source": [
    "# L'IRM une mesure qualitative"
   ]
  },
  {
   "cell_type": "markdown",
   "metadata": {
    "colab_type": "text",
    "id": "OoC8tEY8Pcsm"
   },
   "source": [
    "### Importations des données\n",
    "\n",
    "Maintenant que nos outils sont chargés, nous allons charger nos données.\n",
    "\n",
    "Cliquez sur le lien ci-dessous : \n",
    "\n",
    "https://drive.google.com/open?id=16ZLvd-K80ceBOK22Qt_0vS5r_EuW21IL\n",
    "\n",
    "Cliquer droit sur le dossier data et appuyer sur ajouter à mon drive.\n",
    "\n",
    "<img src=\"https://github.com/MorganGautherot/Tuto_MRI_ML/blob/master/tp_3/images/data_google_drive.png?raw=1\" width=\"800\" >"
   ]
  },
  {
   "cell_type": "markdown",
   "metadata": {
    "colab_type": "text",
    "id": "HZybRS1GPcso"
   },
   "source": [
    "Exécutez la cellule ci-dessous et appuyez sur le lien proposé. \n",
    "\n",
    "Suivez les instructions et copiez le code ci-dessous."
   ]
  },
  {
   "cell_type": "code",
   "execution_count": null,
   "metadata": {
    "colab": {
     "base_uri": "https://localhost:8080/",
     "height": 122
    },
    "colab_type": "code",
    "executionInfo": {
     "elapsed": 21825,
     "status": "ok",
     "timestamp": 1583320334814,
     "user": {
      "displayName": "Doc Renaud",
      "photoUrl": "",
      "userId": "11833740843400079090"
     },
     "user_tz": -60
    },
    "id": "u-1SHXHVPcsq",
    "outputId": "83882470-7b23-4b1e-ff38-6f86589871ce"
   },
   "outputs": [],
   "source": [
    "from google.colab import drive\n",
    "drive.mount('/content/gdrive/')"
   ]
  },
  {
   "cell_type": "markdown",
   "metadata": {
    "colab_type": "text",
    "id": "qCW0pfb3Pcsw"
   },
   "source": [
    "Les données sont maintenant dans votre environnement collab."
   ]
  },
  {
   "cell_type": "markdown",
   "metadata": {
    "colab_type": "text",
    "id": "L65h93cLEBG0"
   },
   "source": [
    "L'acquisition de données en imagerie médicale coûte très cher et les installations ne permettent pas l'acquisition de grande cohorte en peu de temps. \n",
    "L'utilisation de deep learning demande une grande quantité d'images afin de comprendre le phénomène à modéliser et d'effectuer des prédictions précises. \n",
    "De ce fait pour l'entraînement de modèle de deep learning les laboratoires ont de plus en plus recours à des données multi-centriques, provenant de différents centres, étant acquises avec différentes machines, avec des séquences différentes.\n",
    "\n",
    "L'un des principaux défis est le manque de normalisation des protocoles d'acquisition d'images, du matériel et des logiciels des scanners. Il a été démontré que la variabilité entre les scanners affectent les mesures obtenues pour l'analyse. \n",
    "\n",
    "Le fait que nos mesures ne soient pas quantative, mais qualitative, pose des problèmes pour notre algorithme de deep learning. Toutes les images ne seront pas sur la même échelle. Une valeur sur une image n'aura pas forcément la même signification sur une autre image. Ce manque de cohérence est un gros problème dans l'apprentissage d'un modèle de machine learning. \n",
    "\n"
   ]
  },
  {
   "cell_type": "code",
   "execution_count": null,
   "metadata": {
    "colab": {},
    "colab_type": "code",
    "id": "qN0JEwXKPcsz"
   },
   "outputs": [],
   "source": [
    "def show_slices(slices):\n",
    "    \"\"\" Function to display row of image slices \"\"\"\n",
    "    fig, axes = plt.subplots(1, len(slices))\n",
    "    for i, slice in enumerate(slices):\n",
    "        axes[i].imshow(slice.T, cmap=\"gray\", origin=\"lower\")"
   ]
  },
  {
   "cell_type": "code",
   "execution_count": null,
   "metadata": {
    "colab": {},
    "colab_type": "code",
    "id": "PWr2et5YBLMI"
   },
   "outputs": [],
   "source": [
    "# Calculs scientifiques\n",
    "import numpy as np\n",
    "# Gestion des formats IRM\n",
    "import nibabel as nib\n",
    "# Trouver les picks d'une courbe\n",
    "from scipy.signal import find_peaks\n",
    "# Création et affichage de graphiques\n",
    "import matplotlib.pyplot as plt\n",
    "import seaborn as sns"
   ]
  },
  {
   "cell_type": "markdown",
   "metadata": {
    "colab_type": "text",
    "id": "kU49IowUO3ht"
   },
   "source": [
    "Dans ce [jeu de données](https://brain-development.org/ixi-dataset/) vous verrez des images acquises par trois centres Hammersmith Hospital, Guy’s Hospital et Institute of Psychiatry."
   ]
  },
  {
   "cell_type": "code",
   "execution_count": null,
   "metadata": {
    "colab": {},
    "colab_type": "code",
    "id": "Y6kbWqMIOnzR"
   },
   "outputs": [],
   "source": [
    "# Une image acquise par le centre Hammersmith Hospital \n",
    "hh_img = nib.load('/content/gdrive/My Drive/tp_3/data/IXI338/IXI338-HH-1971-T1.nii.gz').get_fdata()\n",
    "\n",
    "# Une image acquise par l'institute of Psychiatry\n",
    "iop_img = nib.load('/content/gdrive/My Drive/tp_3/data/IXI331/IXI331-IOP-0892-T1.nii.gz').get_fdata()\n",
    "\n",
    "# Une image acquise par le centre Guy's Hospital\n",
    "guys_img = nib.load('/content/gdrive/My Drive/tp_3/data/IXI330/IXI330-Guys-0881-T1.nii.gz').get_fdata()"
   ]
  },
  {
   "cell_type": "code",
   "execution_count": null,
   "metadata": {
    "colab": {
     "base_uri": "https://localhost:8080/",
     "height": 119
    },
    "colab_type": "code",
    "executionInfo": {
     "elapsed": 1134,
     "status": "ok",
     "timestamp": 1583320424512,
     "user": {
      "displayName": "Doc Renaud",
      "photoUrl": "",
      "userId": "11833740843400079090"
     },
     "user_tz": -60
    },
    "id": "CvcaG8QaP7wk",
    "outputId": "a33682a4-ddd5-4975-c050-5107a2ca3433"
   },
   "outputs": [],
   "source": [
    "# On transforme la martice de trois dimensions en vecteur\n",
    "hh_vector = hh_img.flatten()\n",
    "print('Dimension de la matrice hh ',hh_img.shape)\n",
    "print('Dimension du vecteur hh ', hh_vector.shape)\n",
    "\n",
    "# On transforme la martice de trois dimensions en vecteur\n",
    "iop_vector = iop_img.flatten()\n",
    "print('Dimension de la matrice iop ',iop_img.shape)\n",
    "print('Dimension du vecteur iop ', iop_vector.shape)\n",
    "\n",
    "# On transforme la martice de trois dimensions en vecteur\n",
    "guys_vector = guys_img.flatten()\n",
    "print('Dimension de la matrice guys ',guys_img.shape)\n",
    "print('Dimension du vecteur guys ', guys_vector.shape)"
   ]
  },
  {
   "cell_type": "markdown",
   "metadata": {
    "colab_type": "text",
    "id": "-6UdMR3hR1Yl"
   },
   "source": [
    "On trace la distribution des intensités de notre image du centre Hammersmith Hospital."
   ]
  },
  {
   "cell_type": "code",
   "execution_count": null,
   "metadata": {
    "colab": {
     "base_uri": "https://localhost:8080/",
     "height": 265
    },
    "colab_type": "code",
    "executionInfo": {
     "elapsed": 2626,
     "status": "ok",
     "timestamp": 1583320513864,
     "user": {
      "displayName": "Doc Renaud",
      "photoUrl": "",
      "userId": "11833740843400079090"
     },
     "user_tz": -60
    },
    "id": "Oj7ebPMUQo_9",
    "outputId": "a21369e0-c433-47d8-b58c-6e2e2b1752aa"
   },
   "outputs": [],
   "source": [
    "sns.kdeplot(hh_vector, shade=True)\n",
    "plt.show()"
   ]
  },
  {
   "cell_type": "markdown",
   "metadata": {
    "colab_type": "text",
    "id": "WgVesoBMPctR"
   },
   "source": [
    "Comme vous pouvez le voir, beaucoup de valeurs sont proche de 0. Ces valeurs proches de 0 correspondent aux pixels noires qui entourent notre cerveau. Pour avoir une meilleure visualisation de notre distribution, nous pouvons seulement regarder notre distribution pour les intensités proche de 0."
   ]
  },
  {
   "cell_type": "markdown",
   "metadata": {
    "colab_type": "text",
    "id": "6yqT28KdPctS"
   },
   "source": [
    "On peut voir que les images ne sont pas du tout sur la même échelle."
   ]
  },
  {
   "cell_type": "code",
   "execution_count": null,
   "metadata": {
    "colab": {
     "base_uri": "https://localhost:8080/",
     "height": 265
    },
    "colab_type": "code",
    "executionInfo": {
     "elapsed": 2970,
     "status": "ok",
     "timestamp": 1583320533000,
     "user": {
      "displayName": "Doc Renaud",
      "photoUrl": "",
      "userId": "11833740843400079090"
     },
     "user_tz": -60
    },
    "id": "XXH_rVTkPctT",
    "outputId": "fecf3c82-097a-4c19-ff96-478bc91fa0c9"
   },
   "outputs": [],
   "source": [
    "sns.kdeplot(hh_vector[hh_vector > 100], shade=True, color='blue')\n",
    "sns.kdeplot(iop_vector[iop_vector > 100], shade=True, color='red')\n",
    "sns.kdeplot(guys_vector[guys_vector > 100], shade=True, color='green')\n",
    "plt.show()"
   ]
  },
  {
   "cell_type": "markdown",
   "metadata": {
    "colab_type": "text",
    "id": "oLve_wtaR0i3"
   },
   "source": [
    "On peut tracer nos distributions séparément pour y voir plus clair."
   ]
  },
  {
   "cell_type": "code",
   "execution_count": null,
   "metadata": {
    "colab": {
     "base_uri": "https://localhost:8080/",
     "height": 812
    },
    "colab_type": "code",
    "executionInfo": {
     "elapsed": 6449,
     "status": "ok",
     "timestamp": 1583320555887,
     "user": {
      "displayName": "Doc Renaud",
      "photoUrl": "",
      "userId": "11833740843400079090"
     },
     "user_tz": -60
    },
    "id": "LurchhsuRvla",
    "outputId": "f4f70bb5-a337-498d-89a7-9771545dd92e"
   },
   "outputs": [],
   "source": [
    "print('Intensité maximum du centre Hammersmith Hospital ',max(hh_vector))\n",
    "sns.kdeplot(hh_vector[hh_vector > 50], shade=True, color='blue')\n",
    "plt.show()\n",
    "\n",
    "print('Intensité maximum du centre Institue of Psychiatry ',max(iop_vector))\n",
    "sns.kdeplot(iop_vector[iop_vector > 500], shade=True, color='red')\n",
    "plt.show()\n",
    "\n",
    "print('Intensité maximum du centre Guys\\'s Hospital ',max(guys_vector))\n",
    "sns.kdeplot(guys_vector[guys_vector > 50], shade=True, color='green')\n",
    "plt.show()"
   ]
  },
  {
   "cell_type": "markdown",
   "metadata": {
    "colab_type": "text",
    "id": "JgYm7hYCUVBT"
   },
   "source": [
    "Vous avez maintenant vu les problèmes que pose la mesure qualitative de l'IRM."
   ]
  },
  {
   "cell_type": "markdown",
   "metadata": {
    "colab_type": "text",
    "id": "d6KMMXGNPcte"
   },
   "source": [
    "## Homogénéisation du champ\n",
    "\n",
    "Au cours de l'acquisition d'une image IRM, les champs électromagnétiques ne sont pas toujours homogènes. Cette inhomogénéité change les intensités et déforme l'image. La correction du champ consiste à corriger les intensités de voxels dues à la présence d'une non-uniformité de l'intensité des basses fréquences.\n",
    "\n",
    "Comme vous pouvez le voir ci-dessous (L'image à été emprunté à cet [article](https://www.biorxiv.org/content/10.1101/413302v1))\n",
    "\n",
    "<img src='https://github.com/MorganGautherot/Tuto_MRI_ML/blob/master/tp_3/images/nonuniformity.jpg?raw=1' width=500) >"
   ]
  },
  {
   "cell_type": "markdown",
   "metadata": {
    "colab_type": "text",
    "id": "0Z6vGhFwPctf"
   },
   "source": [
    "Nous avons utilisé le logiciel [freesurfer](https://surfer.nmr.mgh.harvard.edu) afin de corriger cette erreur."
   ]
  },
  {
   "cell_type": "code",
   "execution_count": null,
   "metadata": {
    "colab": {},
    "colab_type": "code",
    "id": "BLtLNurwPctg"
   },
   "outputs": [],
   "source": [
    "# Une image acquise par le centre Hammersmith Hospital \n",
    "hh_img = nib.load('/content/gdrive/My Drive/tp_3/data/IXI338/sub-IXI338_desc-preproc_T1w.nii.gz').get_fdata()\n",
    "\n",
    "# Une image acquise par l'institute of Psychiatry\n",
    "iop_img = nib.load('/content/gdrive/My Drive/tp_3/data/IXI331/sub-IXI331_desc-preproc_T1w.nii.gz').get_fdata()\n",
    "\n",
    "# Une image acquise par le centre Guy's Hospital\n",
    "guys_img = nib.load('/content/gdrive/My Drive/tp_3/data/IXI330/sub-330_desc-preproc_T1w.nii.gz').get_fdata()"
   ]
  },
  {
   "cell_type": "markdown",
   "metadata": {
    "colab_type": "text",
    "id": "BkO60c6LPcts"
   },
   "source": [
    "On peut visualiser si la distribution de nos intensités a été affectée par la correction de ce problème."
   ]
  },
  {
   "cell_type": "code",
   "execution_count": null,
   "metadata": {
    "colab": {
     "base_uri": "https://localhost:8080/",
     "height": 816
    },
    "colab_type": "code",
    "executionInfo": {
     "elapsed": 6817,
     "status": "ok",
     "timestamp": 1583320895506,
     "user": {
      "displayName": "Doc Renaud",
      "photoUrl": "",
      "userId": "11833740843400079090"
     },
     "user_tz": -60
    },
    "id": "kqk7_Tw3Pctv",
    "outputId": "6ebff599-4141-4cdb-e3a4-7674b8c7dc8a"
   },
   "outputs": [],
   "source": [
    "print('Intensité maximum du centre Hammersmith Hospital ',max(hh_img.flatten()))\n",
    "sns.kdeplot(hh_img.flatten()[hh_img.flatten() > 2500], shade=True, color='blue')\n",
    "plt.show()\n",
    "\n",
    "print('Intensité maximum du centre Institue of Psychiatry ',max(iop_img.flatten()))\n",
    "sns.kdeplot(iop_img.flatten()[iop_img.flatten() > 10000], shade=True, color='red')\n",
    "plt.show()\n",
    "\n",
    "print('Intensité maximum du centre Guys\\'s Hospital ',max(guys_img.flatten()))\n",
    "sns.kdeplot(guys_img.flatten()[guys_img.flatten() > 5000], shade=True, color='green')\n",
    "plt.show()"
   ]
  },
  {
   "cell_type": "markdown",
   "metadata": {
    "colab_type": "text",
    "id": "NoGdzqkWPctz"
   },
   "source": [
    "## Travailler dans un espace commun\n",
    "\n",
    "Lors de l'acquisition de l'image, on obtient des intensités dans un certain espace. Chaque image IRM est dans un espace différent. Comme vous pouvez voir l'image ci-dessous, les images ne sont pas recalées.\n",
    "\n",
    "\n",
    "<center>\n",
    "<img src='https://github.com/MorganGautherot/Tuto_MRI_ML/blob/master/tp_3/images/sans_recalage.gif?raw=1' >\n",
    "</center>\n"
   ]
  },
  {
   "cell_type": "markdown",
   "metadata": {
    "colab_type": "text",
    "id": "OzCdwQExPct0"
   },
   "source": [
    "De plus, les images acquises dans des centres différents, peuvent ne pas avoir les mêmes dimensions. "
   ]
  },
  {
   "cell_type": "code",
   "execution_count": null,
   "metadata": {
    "colab": {
     "base_uri": "https://localhost:8080/",
     "height": 68
    },
    "colab_type": "code",
    "executionInfo": {
     "elapsed": 562,
     "status": "ok",
     "timestamp": 1583320930968,
     "user": {
      "displayName": "Doc Renaud",
      "photoUrl": "",
      "userId": "11833740843400079090"
     },
     "user_tz": -60
    },
    "id": "HQOf_acyPct1",
    "outputId": "ffafdfdd-9091-4c89-f331-09fbb6524d13"
   },
   "outputs": [],
   "source": [
    "print('Dimension du vecteur hh ', hh_img.shape)\n",
    "print('Dimension de la matrice iop ',iop_img.shape)\n",
    "print('Dimension de la matrice guys ',guys_img.shape)"
   ]
  },
  {
   "cell_type": "markdown",
   "metadata": {
    "colab_type": "text",
    "id": "oeK1RvcMPct6"
   },
   "source": [
    "S'ils ont veux appliquer un algorithme de deep learning sur nos images, il faut qu'elles aient toutes les mêmes dimensions. Pour cela, nous allons recaler nos images dans un même espace avec les mêmes dimensions. \n",
    "\n",
    "Nous allons recaler toutes nos images IRM sur une images de références comme l'image ci-dessous."
   ]
  },
  {
   "cell_type": "code",
   "execution_count": null,
   "metadata": {
    "colab": {
     "base_uri": "https://localhost:8080/",
     "height": 165
    },
    "colab_type": "code",
    "executionInfo": {
     "elapsed": 1924,
     "status": "ok",
     "timestamp": 1583320962022,
     "user": {
      "displayName": "Doc Renaud",
      "photoUrl": "",
      "userId": "11833740843400079090"
     },
     "user_tz": -60
    },
    "id": "eVtGBk-aPct7",
    "outputId": "e68603ba-8edf-4ec1-acff-f92f7293df87"
   },
   "outputs": [],
   "source": [
    "# L'image de référence\n",
    "mni_img = nib.load('/content/gdrive/My Drive/tp_3/data/mni_icbm152_t1_tal_nlin_asym_09c.nii').get_fdata()\n",
    "\n",
    "# Visualisation d'une coupe sagittale du masque\n",
    "slice_0 = mni_img[90, :, :]\n",
    "\n",
    "# Visualisation d'une coupe coronale du masque\n",
    "slice_1 = mni_img[:, 50, :]\n",
    "\n",
    "# Visualisation d'une coupe axiale du masque\n",
    "slice_2 = mni_img[:, :, 150]\n",
    "\n",
    "show_slices([slice_0.T, slice_1.T, slice_2])\n",
    "plt.show()"
   ]
  },
  {
   "cell_type": "markdown",
   "metadata": {
    "colab_type": "text",
    "id": "rQiqbmfrPct_"
   },
   "source": [
    "Nous avons utilisé le logiciel [Ants](http://stnava.github.io/ANTs/) pour recaler nos images. Une fois recalées, nos images sont bien dans le même espace (cf image ci-dessous)\n",
    "\n",
    "<img src='https://github.com/MorganGautherot/Tuto_MRI_ML/blob/master/tp_3/images/avec_recalage.gif?raw=1' />"
   ]
  },
  {
   "cell_type": "code",
   "execution_count": null,
   "metadata": {
    "colab": {},
    "colab_type": "code",
    "id": "EXJpT3C3PcuC"
   },
   "outputs": [],
   "source": [
    "# L'image de référence\n",
    "hh_img_mni = nib.load('/content/gdrive/My Drive/tp_3/data/IXI338/sub-IXI338_space-MNI152NLin2009cAsym_desc-preproc_T1w.nii.gz').get_fdata()\n",
    "\n",
    "# L'image de référence\n",
    "iop_img_mni = nib.load('/content/gdrive/My Drive/tp_3/data/IXI331/sub-IXI331_space-MNI152NLin2009cAsym_desc-preproc_T1w.nii.gz').get_fdata()\n",
    "\n",
    "# L'image de référence\n",
    "guys_img_mni = nib.load('/content/gdrive/My Drive/tp_3/data/IXI330/sub-330_space-MNI152NLin2009cAsym_desc-preproc_T1w.nii.gz').get_fdata()"
   ]
  },
  {
   "cell_type": "markdown",
   "metadata": {
    "colab_type": "text",
    "id": "w1hQgQzRPcuG"
   },
   "source": [
    "De plus, elles ont les mêmes dimensions"
   ]
  },
  {
   "cell_type": "code",
   "execution_count": null,
   "metadata": {
    "colab": {
     "base_uri": "https://localhost:8080/",
     "height": 68
    },
    "colab_type": "code",
    "executionInfo": {
     "elapsed": 649,
     "status": "ok",
     "timestamp": 1583320979340,
     "user": {
      "displayName": "Doc Renaud",
      "photoUrl": "",
      "userId": "11833740843400079090"
     },
     "user_tz": -60
    },
    "id": "5cBe64SRPcuH",
    "outputId": "bf201858-56d7-4281-f323-680b227ca75b"
   },
   "outputs": [],
   "source": [
    "print('Dimension du vecteur hh ', hh_img_mni.shape)\n",
    "print('Dimension de la matrice iop ',iop_img_mni.shape)\n",
    "print('Dimension de la matrice guys ',guys_img_mni.shape)"
   ]
  },
  {
   "cell_type": "markdown",
   "metadata": {
    "colab_type": "text",
    "id": "z10EEKbnPcuL"
   },
   "source": [
    "On peut vérifier si le changement d'espace a eu un impact sur les distributions de nos intensités."
   ]
  },
  {
   "cell_type": "code",
   "execution_count": null,
   "metadata": {
    "colab": {
     "base_uri": "https://localhost:8080/",
     "height": 812
    },
    "colab_type": "code",
    "executionInfo": {
     "elapsed": 6873,
     "status": "ok",
     "timestamp": 1583320988784,
     "user": {
      "displayName": "Doc Renaud",
      "photoUrl": "",
      "userId": "11833740843400079090"
     },
     "user_tz": -60
    },
    "id": "ETXeZk7mPcuN",
    "outputId": "6913ddd9-ee91-4290-b681-6e66dee45b5f"
   },
   "outputs": [],
   "source": [
    "print('Intensité maximum du centre Hammersmith Hospital ',max(hh_img_mni.flatten()))\n",
    "sns.kdeplot(hh_img_mni.flatten()[hh_img_mni.flatten() > 2500], shade=True, color='blue')\n",
    "plt.show()\n",
    "\n",
    "print('Intensité maximum du centre Institue of Psychiatry ',max(iop_img_mni.flatten()))\n",
    "sns.kdeplot(iop_img_mni.flatten()[iop_img_mni.flatten() > 10000], shade=True, color='red')\n",
    "plt.show()\n",
    "\n",
    "print('Intensité maximum du centre Guys\\'s Hospital ',max(guys_img_mni.flatten()))\n",
    "sns.kdeplot(guys_img_mni.flatten()[guys_img_mni.flatten() > 5000], shade=True, color='green')\n",
    "plt.show()"
   ]
  },
  {
   "cell_type": "markdown",
   "metadata": {
    "colab_type": "text",
    "id": "UeDC3oeCPcuV"
   },
   "source": [
    "On peut voir que le recalage dans un espace commun n'affecte pas la distribution des intensités de notre image."
   ]
  },
  {
   "cell_type": "markdown",
   "metadata": {
    "colab_type": "text",
    "id": "-oF9RSpxPcuW"
   },
   "source": [
    "## Extraction du cerveau \n",
    "\n",
    "Si nos applications par la suite portent uniquement sur le cerveau, nous pouvons l'extraire afin de travailler seulement sur celui-ci.\n",
    "\n",
    "Nous avons utiliser [Ants](http://picsl.upenn.edu/software/ants/) afin de segmenter nos cerveaux automatiquement."
   ]
  },
  {
   "cell_type": "code",
   "execution_count": null,
   "metadata": {
    "colab": {},
    "colab_type": "code",
    "id": "SBrUazErPcuZ"
   },
   "outputs": [],
   "source": [
    "# Masque cérébrale de notre image Hammersmith Hospital\n",
    "hh_brain_mask = nib.load('/content/gdrive/My Drive/tp_3/data/IXI338/sub-IXI338_space-MNI152NLin2009cAsym_desc-brain_mask.nii.gz').get_fdata()\n",
    "\n",
    "# Masque cérébrale de notre image institute of Psychiatry\n",
    "iop_brain_mask = nib.load('/content/gdrive/My Drive/tp_3/data/IXI331/sub-IXI331_space-MNI152NLin2009cAsym_desc-brain_mask.nii.gz').get_fdata()\n",
    "\n",
    "# Masque cérébrale de notre image Guy's Hospital\n",
    "guys_brain_mask = nib.load('/content/gdrive/My Drive/tp_3/data/IXI330/sub-330_space-MNI152NLin2009cAsym_desc-brain_mask.nii.gz').get_fdata()"
   ]
  },
  {
   "cell_type": "markdown",
   "metadata": {
    "colab_type": "text",
    "id": "8qrCTdTfPcub"
   },
   "source": [
    "Visualisons notre masque."
   ]
  },
  {
   "cell_type": "code",
   "execution_count": null,
   "metadata": {
    "colab": {
     "base_uri": "https://localhost:8080/",
     "height": 165
    },
    "colab_type": "code",
    "executionInfo": {
     "elapsed": 729,
     "status": "ok",
     "timestamp": 1583321008970,
     "user": {
      "displayName": "Doc Renaud",
      "photoUrl": "",
      "userId": "11833740843400079090"
     },
     "user_tz": -60
    },
    "id": "SRsZBccIPcuc",
    "outputId": "3895861b-e47a-41a4-d288-1aa09dad8c4b"
   },
   "outputs": [],
   "source": [
    "# Visualisation d'une coupe Axiale du masque\n",
    "slice_0 = hh_brain_mask[90, :, :]\n",
    "\n",
    "# Visualisation d'une coupe Coronale du masque\n",
    "slice_1 = hh_brain_mask[:, 50, :]\n",
    "\n",
    "# Visualisation d'une coupe sagittale du masque\n",
    "slice_2 = hh_brain_mask[:, :, 150]\n",
    "\n",
    "show_slices([slice_0, slice_1, slice_2])\n",
    "plt.show()"
   ]
  },
  {
   "cell_type": "markdown",
   "metadata": {
    "colab_type": "text",
    "id": "Gg7bon-8Pcug"
   },
   "source": [
    "Visualisons notre image."
   ]
  },
  {
   "cell_type": "code",
   "execution_count": null,
   "metadata": {
    "colab": {
     "base_uri": "https://localhost:8080/",
     "height": 165
    },
    "colab_type": "code",
    "executionInfo": {
     "elapsed": 850,
     "status": "ok",
     "timestamp": 1583321012704,
     "user": {
      "displayName": "Doc Renaud",
      "photoUrl": "",
      "userId": "11833740843400079090"
     },
     "user_tz": -60
    },
    "id": "r3n0F4UEPcui",
    "outputId": "b553848f-a11e-4b38-ab55-dbba4978b49c"
   },
   "outputs": [],
   "source": [
    "# Visualisation d'une coupe sagittale de l'image\n",
    "slice_0 = hh_img_mni[90, :, :]\n",
    "\n",
    "# Visualisation d'une coupe coronale de l'image\n",
    "slice_1 = hh_img_mni[:, 50, :]\n",
    "\n",
    "# Visualisation d'une coupe axiale de l'image\n",
    "slice_2 = hh_img_mni[:, :, 150]\n",
    "\n",
    "show_slices([slice_0, slice_1, slice_2])\n",
    "plt.show()"
   ]
  },
  {
   "cell_type": "markdown",
   "metadata": {
    "colab_type": "text",
    "id": "58b6CziDPcup"
   },
   "source": [
    "Nous allons multiplier notre masque (matrice de 0 et de 1) pour garder seulement les intensités correspondant à notre cerveau."
   ]
  },
  {
   "cell_type": "code",
   "execution_count": null,
   "metadata": {
    "colab": {},
    "colab_type": "code",
    "id": "GbdEv9H2Pcuq"
   },
   "outputs": [],
   "source": [
    "# Multplication de notre masque de matière blanche avec les intensités de notre image IRM\n",
    "hh_brain_img = hh_brain_mask * hh_img_mni\n",
    "\n",
    "# Multiplication de notre masque de matière grise avec les intensités de notre image IRM\n",
    "iop_brain_img = iop_brain_mask * iop_img_mni\n",
    "\n",
    "# Multiplication de notre masque de matière grise avec les intensités de notre image IRM\n",
    "guys_brain_img = guys_brain_mask * guys_img_mni"
   ]
  },
  {
   "cell_type": "markdown",
   "metadata": {
    "colab_type": "text",
    "id": "3WUxYNhNPcus"
   },
   "source": [
    "Visualisons notre nouvelle image."
   ]
  },
  {
   "cell_type": "code",
   "execution_count": null,
   "metadata": {
    "colab": {
     "base_uri": "https://localhost:8080/",
     "height": 165
    },
    "colab_type": "code",
    "executionInfo": {
     "elapsed": 1405,
     "status": "ok",
     "timestamp": 1583321047019,
     "user": {
      "displayName": "Doc Renaud",
      "photoUrl": "",
      "userId": "11833740843400079090"
     },
     "user_tz": -60
    },
    "id": "4Vsp_TsGPcuu",
    "outputId": "a477e4d4-657f-4402-9d41-6e038bcf31a3"
   },
   "outputs": [],
   "source": [
    "# Visualisation d'une coupe sagittale du cerveau extré\n",
    "slice_0 = hh_brain_img[90, :, :]\n",
    "\n",
    "# Visualisation d'une coupe coronale du cerveau extré\n",
    "slice_1 = hh_brain_img[:, 50, :]\n",
    "\n",
    "# Visualisation d'une coupe axiale du cerveau extré\n",
    "slice_2 = hh_brain_img[:, :, 150]\n",
    "\n",
    "show_slices([slice_0, slice_1, slice_2])\n",
    "plt.show()"
   ]
  },
  {
   "cell_type": "markdown",
   "metadata": {
    "colab_type": "text",
    "id": "vqOYnP2kPcuy"
   },
   "source": [
    "Visualisons la nouvelle distribution de nos intensités."
   ]
  },
  {
   "cell_type": "code",
   "execution_count": null,
   "metadata": {
    "colab": {
     "base_uri": "https://localhost:8080/",
     "height": 812
    },
    "colab_type": "code",
    "executionInfo": {
     "elapsed": 6173,
     "status": "ok",
     "timestamp": 1583321057234,
     "user": {
      "displayName": "Doc Renaud",
      "photoUrl": "",
      "userId": "11833740843400079090"
     },
     "user_tz": -60
    },
    "id": "zrhTmnJmPcuz",
    "outputId": "96c65bd2-f835-49c8-d4c7-3c1131052a0d"
   },
   "outputs": [],
   "source": [
    "print('Intensité maximum du centre Hammersmith Hospital ',max(hh_brain_img.flatten()))\n",
    "sns.kdeplot(hh_brain_img.flatten()[hh_brain_img.flatten() > 0], shade=True, color='blue')\n",
    "plt.show()\n",
    "\n",
    "print('Intensité maximum du centre Institue of Psychiatry ',max(iop_brain_img.flatten()))\n",
    "sns.kdeplot(iop_brain_img.flatten()[iop_brain_img.flatten() > 0], shade=True, color='red')\n",
    "plt.show()\n",
    "\n",
    "print('Intensité maximum du centre Guys\\'s Hospital ',max(guys_brain_img.flatten()))\n",
    "sns.kdeplot(guys_brain_img.flatten()[guys_brain_img.flatten() > 0], shade=True, color='green')\n",
    "plt.show()"
   ]
  },
  {
   "cell_type": "markdown",
   "metadata": {
    "colab_type": "text",
    "id": "-pmO7M7iPcu2"
   },
   "source": [
    "On peut voir que l'extraction du cerveau à retirer beaucoup de bruit sur la distribution de nos intensités. Mais les intensités sont toujours sur des échelles différentes (cf figure ci-dessous)."
   ]
  },
  {
   "cell_type": "code",
   "execution_count": null,
   "metadata": {
    "colab": {
     "base_uri": "https://localhost:8080/",
     "height": 265
    },
    "colab_type": "code",
    "executionInfo": {
     "elapsed": 2362,
     "status": "ok",
     "timestamp": 1583321068197,
     "user": {
      "displayName": "Doc Renaud",
      "photoUrl": "",
      "userId": "11833740843400079090"
     },
     "user_tz": -60
    },
    "id": "JM724_m0Pcu3",
    "outputId": "9096db6a-8179-4ce5-80d1-41a96ad66e69"
   },
   "outputs": [],
   "source": [
    "sns.kdeplot(hh_brain_img[hh_brain_img > 0], shade=True, color='blue')\n",
    "sns.kdeplot(iop_brain_img[iop_brain_img > 0], shade=True, color='red')\n",
    "sns.kdeplot(guys_brain_img[guys_brain_img > 0], shade=True, color='green')\n",
    "plt.show()"
   ]
  },
  {
   "cell_type": "markdown",
   "metadata": {
    "colab_type": "text",
    "id": "psXDVCkTUZpD"
   },
   "source": [
    "## Des structures similaires"
   ]
  },
  {
   "cell_type": "markdown",
   "metadata": {
    "colab_type": "text",
    "id": "DBypnOTeVBCv"
   },
   "source": [
    "Comme vous pouvez le voir dans cet [article](http://surfer.nmr.mgh.harvard.edu/ftp/articles/fischl02-labeling.pdf) notre distribution d'intensité est composé en réalité de plusieurs distributions pour différentes structures de notre cerveau. \n",
    "\n",
    "Une des façons de rendre les valeurs quantitatives serait d'interpoler les intensités qualitatives pour qu'elles correspondent à des valeurs fixes pour des structures de notre cerveau ainsi que définir une valeur maximale d'intensité. Ces valeurs devront être les mêmes pour chaque image. De cette façon, une valeur sur une image correspondra à la même chose sur une autre image même si elle a été acquise dans un autre centre. \n",
    "\n",
    "Avec l'aide du logiciel [freesurfer](https://surfer.nmr.mgh.harvard.edu) nous obtenons des masques représentant la matière blanche et la matière grise.\n",
    "\n"
   ]
  },
  {
   "cell_type": "code",
   "execution_count": null,
   "metadata": {
    "colab": {},
    "colab_type": "code",
    "id": "nEOE1W1XSUNf"
   },
   "outputs": [],
   "source": [
    "# Masque matière blanche de notre image Hammersmith Hospital\n",
    "hh_wm_mask = nib.load('/content/gdrive/My Drive/tp_3/data/IXI338/sub-IXI338_space-MNI152NLin2009cAsym_label-WM_probseg.nii.gz').get_fdata()\n",
    "\n",
    "# Masque matière grise de notre image Hammersmith Hospital\n",
    "hh_gm_mask = nib.load('/content/gdrive/My Drive/tp_3/data/IXI338/sub-IXI338_space-MNI152NLin2009cAsym_label-GM_probseg.nii.gz').get_fdata()\n",
    "\n",
    "# Masque matière blanche de notre image institute of Psychiatry\n",
    "iop_wm_mask = nib.load('/content/gdrive/My Drive/tp_3/data/IXI331/sub-IXI331_space-MNI152NLin2009cAsym_label-WM_probseg.nii.gz').get_fdata()\n",
    "\n",
    "# Masque matière grise de notre image institute of Psychiatry\n",
    "iop_gm_mask = nib.load('/content/gdrive/My Drive/tp_3/data/IXI331/sub-IXI331_space-MNI152NLin2009cAsym_label-GM_probseg.nii.gz').get_fdata()\n",
    "\n",
    "# Masque matière blanche de notre image Guy's Hospital\n",
    "guys_wm_mask = nib.load('/content/gdrive/My Drive/tp_3/data/IXI330/sub-330_space-MNI152NLin2009cAsym_label-WM_probseg.nii.gz').get_fdata()\n",
    "\n",
    "# Masque matière grise de notre image Guy's Hospital\n",
    "guys_gm_mask = nib.load('/content/gdrive/My Drive/tp_3/data/IXI330/sub-330_space-MNI152NLin2009cAsym_label-GM_probseg.nii.gz').get_fdata()"
   ]
  },
  {
   "cell_type": "markdown",
   "metadata": {
    "colab_type": "text",
    "id": "_5hjoffePcu-"
   },
   "source": [
    "Visualisons nos masques."
   ]
  },
  {
   "cell_type": "code",
   "execution_count": null,
   "metadata": {
    "colab": {
     "base_uri": "https://localhost:8080/",
     "height": 345
    },
    "colab_type": "code",
    "executionInfo": {
     "elapsed": 1603,
     "status": "ok",
     "timestamp": 1583325011016,
     "user": {
      "displayName": "Doc Renaud",
      "photoUrl": "",
      "userId": "11833740843400079090"
     },
     "user_tz": -60
    },
    "id": "yITS82wvPcu_",
    "outputId": "c93257cc-a5e4-47d1-92bf-4068d224a539"
   },
   "outputs": [],
   "source": [
    "# Visualisation d'une coupe Axiale de l'image\n",
    "slice_0 = guys_wm_mask[90, :, :]\n",
    "\n",
    "# Visualisation d'une coupe Coronale de l'image\n",
    "slice_1 = guys_wm_mask[:, 50, :]\n",
    "\n",
    "# Visualisation d'une coupe sagittale de l'image\n",
    "slice_2 = guys_wm_mask[:, :, 100]\n",
    "\n",
    "show_slices([slice_0, slice_1, slice_2])\n",
    "plt.title('Masque de matière blanche')\n",
    "plt.show()\n",
    "\n",
    "# Visualisation d'une coupe Axiale de l'image\n",
    "slice_0 = guys_gm_mask[90, :, :]\n",
    "\n",
    "# Visualisation d'une coupe Coronale de l'image\n",
    "slice_1 = guys_gm_mask[:, 50, :]\n",
    "\n",
    "# Visualisation d'une coupe sagittale de l'image\n",
    "slice_2 = guys_gm_mask[:, :, 100]\n",
    "\n",
    "show_slices([slice_0, slice_1, slice_2])\n",
    "plt.title('Masque de matière grise')\n",
    "plt.show()\n"
   ]
  },
  {
   "cell_type": "markdown",
   "metadata": {
    "colab_type": "text",
    "id": "rlMDwfesPcvE"
   },
   "source": [
    "On peut voir que les distributions des masques des matières blanche et grise sont composés de probabilités."
   ]
  },
  {
   "cell_type": "code",
   "execution_count": null,
   "metadata": {
    "colab": {
     "base_uri": "https://localhost:8080/",
     "height": 513
    },
    "colab_type": "code",
    "executionInfo": {
     "elapsed": 4243,
     "status": "ok",
     "timestamp": 1583325041430,
     "user": {
      "displayName": "Doc Renaud",
      "photoUrl": "",
      "userId": "11833740843400079090"
     },
     "user_tz": -60
    },
    "id": "wF52Rw4YPcvE",
    "outputId": "9f4e162c-45de-4138-9ffc-3256566ee455"
   },
   "outputs": [],
   "source": [
    "sns.kdeplot(iop_wm_mask.flatten(), shade=True, color='blue')\n",
    "plt.show()\n",
    "\n",
    "sns.kdeplot(guys_gm_mask.flatten(), shade=True, color='red')\n",
    "plt.show()"
   ]
  },
  {
   "cell_type": "markdown",
   "metadata": {
    "colab_type": "text",
    "id": "RpBSDi6KPcvH"
   },
   "source": [
    "Nous allons transformer ces probabilités en prédiction binaire (1/0)."
   ]
  },
  {
   "cell_type": "code",
   "execution_count": null,
   "metadata": {
    "colab": {},
    "colab_type": "code",
    "id": "Tc6SHL15PcvJ"
   },
   "outputs": [],
   "source": [
    "# Masque matière blanche de notre image Hammersmith Hospital\n",
    "hh_wm_mask = np.where(hh_wm_mask >= 0.6, 1, 0)\n",
    "\n",
    "# Masque matière grise de notre image Hammersmith Hospital\n",
    "hh_gm_mask = np.where(hh_gm_mask >= 0.6, 1, 0)\n",
    "\n",
    "# Masque matière blanche de notre image Hammersmith Hospital\n",
    "iop_wm_mask = np.where(iop_wm_mask >= 0.6, 1, 0)\n",
    "\n",
    "# Masque matière grise de notre image Hammersmith Hospital\n",
    "iop_gm_mask = np.where(iop_gm_mask >= 0.6, 1, 0)\n",
    "\n",
    "# Masque matière blanche de notre image Hammersmith Hospital\n",
    "guys_wm_mask = np.where(guys_wm_mask >= 0.6, 1, 0)\n",
    "\n",
    "# Masque matière grise de notre image Hammersmith Hospital\n",
    "guys_gm_mask = np.where(guys_gm_mask >= 0.6, 1, 0)"
   ]
  },
  {
   "cell_type": "markdown",
   "metadata": {
    "colab_type": "text",
    "id": "csfdkm9DPcvO"
   },
   "source": [
    "Nous obtenons bien des distributions binaires pour tous nos masques."
   ]
  },
  {
   "cell_type": "code",
   "execution_count": null,
   "metadata": {
    "colab": {
     "base_uri": "https://localhost:8080/",
     "height": 513
    },
    "colab_type": "code",
    "executionInfo": {
     "elapsed": 2757,
     "status": "ok",
     "timestamp": 1583325056304,
     "user": {
      "displayName": "Doc Renaud",
      "photoUrl": "",
      "userId": "11833740843400079090"
     },
     "user_tz": -60
    },
    "id": "pIkCAPklPcvU",
    "outputId": "4edaaddf-1ac0-42f0-f7c0-d8b4d430121e"
   },
   "outputs": [],
   "source": [
    "sns.kdeplot(guys_wm_mask.flatten(), shade=True, color='blue')\n",
    "plt.show()\n",
    "\n",
    "sns.kdeplot(guys_gm_mask.flatten(), shade=True, color='red')\n",
    "plt.show()"
   ]
  },
  {
   "cell_type": "markdown",
   "metadata": {
    "colab_type": "text",
    "id": "BTg7uq0GPcvY"
   },
   "source": [
    "On multiplie nos masques binaires identifiant la matière blanche avec nos images afin de garder seulement les intensités des matières blanche et grise."
   ]
  },
  {
   "cell_type": "code",
   "execution_count": null,
   "metadata": {
    "colab": {},
    "colab_type": "code",
    "id": "FHTzz3rmPcvZ"
   },
   "outputs": [],
   "source": [
    "# Multplication de notre masque de matière blanche avec les intensités de notre image IRM\n",
    "hh_img_wm = hh_wm_mask * hh_brain_img\n",
    "\n",
    "# Multiplication de notre masque de matière grise avec les intensités de notre image IRM\n",
    "hh_img_gm = hh_gm_mask * hh_brain_img\n",
    "\n",
    "# Multplication de notre masque de matière blanche avec les intensités de notre image IRM\n",
    "iop_img_wm = iop_wm_mask * iop_brain_img\n",
    "\n",
    "# Multiplication de notre masque de matière grise avec les intensités de notre image IRM\n",
    "iop_img_gm = iop_gm_mask * iop_brain_img\n",
    "\n",
    "# Multplication de notre masque de matière blanche avec les intensités de notre image IRM\n",
    "guys_img_wm = guys_wm_mask * guys_brain_img\n",
    "\n",
    "# Multiplication de notre masque de matière grise avec les intensités de notre image IRM\n",
    "guys_img_gm = guys_gm_mask * guys_brain_img"
   ]
  },
  {
   "cell_type": "markdown",
   "metadata": {
    "colab_type": "text",
    "id": "hclc1JILPcvc"
   },
   "source": [
    "On peut visualiser la segmentation de notre matière blanche et matière grise."
   ]
  },
  {
   "cell_type": "code",
   "execution_count": null,
   "metadata": {
    "colab": {
     "base_uri": "https://localhost:8080/",
     "height": 345
    },
    "colab_type": "code",
    "executionInfo": {
     "elapsed": 1311,
     "status": "ok",
     "timestamp": 1583325168380,
     "user": {
      "displayName": "Doc Renaud",
      "photoUrl": "",
      "userId": "11833740843400079090"
     },
     "user_tz": -60
    },
    "id": "MXikED4zPcvd",
    "outputId": "52581e4d-fe6c-4b42-f04d-1c5ff883b7d1"
   },
   "outputs": [],
   "source": [
    "# Visualisation d'une coupe Axiale de l'image\n",
    "slice_0 = guys_img_wm[90, :, :]\n",
    "\n",
    "# Visualisation d'une coupe Coronale de l'image\n",
    "slice_1 = guys_img_wm[:, 50, :]\n",
    "\n",
    "# Visualisation d'une coupe sagittale de l'image\n",
    "slice_2 = guys_img_wm[:, :, 100]\n",
    "\n",
    "show_slices([slice_0, slice_1, slice_2])\n",
    "plt.title('Matière blanche')\n",
    "plt.show()\n",
    "\n",
    "# Visualisation d'une coupe Axiale de l'image\n",
    "slice_0 = guys_img_gm[90, :, :]\n",
    "\n",
    "# Visualisation d'une coupe Coronale de l'image\n",
    "slice_1 = guys_img_gm[:, 50, :]\n",
    "\n",
    "# Visualisation d'une coupe sagittale de l'image\n",
    "slice_2 = guys_img_gm[:, :, 100]\n",
    "\n",
    "show_slices([slice_0, slice_1, slice_2])\n",
    "plt.title('Matière grise')\n",
    "plt.show()"
   ]
  },
  {
   "cell_type": "markdown",
   "metadata": {
    "colab_type": "text",
    "id": "ZsjNaFvuPcvh"
   },
   "source": [
    "Nous pouvons tracer la distribution des intensités pour notre image de notre matière blanche et de notre matière grise."
   ]
  },
  {
   "cell_type": "code",
   "execution_count": null,
   "metadata": {
    "colab": {
     "base_uri": "https://localhost:8080/",
     "height": 265
    },
    "colab_type": "code",
    "executionInfo": {
     "elapsed": 4423,
     "status": "ok",
     "timestamp": 1583325186498,
     "user": {
      "displayName": "Doc Renaud",
      "photoUrl": "",
      "userId": "11833740843400079090"
     },
     "user_tz": -60
    },
    "id": "j3yEPQp-Pcvl",
    "outputId": "58905c41-154b-41d5-ae60-66369ee073e5"
   },
   "outputs": [],
   "source": [
    "# Distribution des intensités de notre image\n",
    "sns.kdeplot(hh_brain_img.flatten()[hh_brain_img.flatten()>0], shade=True, color='deepskyblue')\n",
    "\n",
    "# Distribution des intensités de la matière blanche\n",
    "sns.kdeplot(hh_img_wm.flatten()[hh_img_wm.flatten()>0], shade=True, color='lightsteelblue')\n",
    "\n",
    "# Distribution des intensités de la matière grise\n",
    "sns.kdeplot(hh_img_gm.flatten()[hh_img_gm.flatten()>0], shade=True, color='skyblue')\n",
    "\n",
    "# Distribution des intensités de notre image\n",
    "sns.kdeplot(iop_brain_img.flatten()[iop_brain_img.flatten()>0], shade=True, color='maroon')\n",
    "\n",
    "# Distribution des intensités de la matière blanche\n",
    "sns.kdeplot(iop_img_wm.flatten()[iop_img_wm.flatten()>0], shade=True, color='firebrick')\n",
    "\n",
    "# Distribution des intensités de la matière grise\n",
    "sns.kdeplot(iop_img_gm.flatten()[iop_img_gm.flatten()>0], shade=True, color='salmon')\n",
    "\n",
    "# Distribution des intensités de notre image\n",
    "sns.kdeplot(guys_brain_img.flatten()[guys_brain_img.flatten()>0], shade=True, color='darkolivegreen')\n",
    "\n",
    "# Distribution des intensités de la matière blanche\n",
    "sns.kdeplot(guys_img_wm.flatten()[guys_img_wm.flatten()>0], shade=True, color='green')\n",
    "\n",
    "# Distribution des intensités de la matière grise\n",
    "sns.kdeplot(guys_img_gm.flatten()[guys_img_gm.flatten()>0], shade=True, color='chartreuse')\n",
    "plt.show()"
   ]
  },
  {
   "cell_type": "markdown",
   "metadata": {
    "colab_type": "text",
    "id": "8ZhzdLLEPcvq"
   },
   "source": [
    "## D'une mesure qualitative à une mesure quantitative\n",
    "\n",
    "Nous pouvons essayer d'utiliser la min-max normalisation utilisée pour la normalisation des photos."
   ]
  },
  {
   "cell_type": "code",
   "execution_count": null,
   "metadata": {
    "colab": {
     "base_uri": "https://localhost:8080/",
     "height": 547
    },
    "colab_type": "code",
    "executionInfo": {
     "elapsed": 8012,
     "status": "ok",
     "timestamp": 1583325206388,
     "user": {
      "displayName": "Doc Renaud",
      "photoUrl": "",
      "userId": "11833740843400079090"
     },
     "user_tz": -60
    },
    "id": "k8Vij0f-Pcvt",
    "outputId": "2503e48f-171b-457c-d430-a77ae806a384"
   },
   "outputs": [],
   "source": [
    "hh_max = np.max(hh_brain_img)\n",
    "hh_min = np.max((np.min(hh_brain_img),0))\n",
    "\n",
    "hh_minmax_img = (hh_brain_img - hh_min) / (hh_max - hh_min)\n",
    "hh_minmax_wm = (hh_img_wm - hh_min) / (hh_max - hh_min)\n",
    "hh_minmax_gm = (hh_img_wm - hh_min) / (hh_max - hh_min)\n",
    "\n",
    "iop_max = np.max(iop_brain_img)\n",
    "iop_min = np.max((np.min(iop_brain_img), 0))\n",
    "\n",
    "iop_minmax_img = (iop_brain_img - iop_min) / (iop_max - iop_min)\n",
    "iop_minmax_wm = (iop_img_wm - iop_min) / (iop_max - iop_min)\n",
    "iop_minmax_gm = (iop_img_gm - iop_min) / (iop_max - iop_min)\n",
    "\n",
    "guys_max = np.max(guys_brain_img)\n",
    "guys_min = np.max((np.min(guys_brain_img),0))\n",
    "\n",
    "guys_minmax_img = (guys_brain_img - guys_min) / (guys_max - guys_min)\n",
    "guys_minmax_wm = (guys_img_wm - guys_min) / (guys_max - guys_min)\n",
    "guys_minmax_gm = (guys_img_gm - guys_min) / (guys_max - guys_min)\n",
    "\n",
    "\n",
    "# Distribution des intensités de notre image\n",
    "sns.kdeplot(hh_minmax_img.flatten()[hh_minmax_img.flatten()>0], shade=True, color='deepskyblue')\n",
    "\n",
    "# Distribution des intensités de notre image\n",
    "sns.kdeplot(iop_minmax_img.flatten()[iop_minmax_img.flatten()>0], shade=True, color='maroon')\n",
    "\n",
    "# Distribution des intensités de notre image\n",
    "sns.kdeplot(guys_minmax_img.flatten()[guys_minmax_img.flatten()>0], shade=True, color='darkolivegreen')\n",
    "\n",
    "plt.show()\n",
    "\n",
    "# Distribution des intensités de notre image\n",
    "sns.kdeplot(hh_minmax_img.flatten()[hh_minmax_img.flatten()>0], shade=True, color='deepskyblue')\n",
    "\n",
    "# Distribution des intensités de la matière blanche\n",
    "sns.kdeplot(hh_minmax_wm.flatten()[hh_img_wm.flatten()>0], shade=True, color='lightsteelblue')\n",
    "\n",
    "# Distribution des intensités de la matière grise\n",
    "sns.kdeplot(hh_minmax_gm.flatten()[hh_img_gm.flatten()>0], shade=True, color='skyblue')\n",
    "\n",
    "# Distribution des intensités de notre image\n",
    "sns.kdeplot(iop_minmax_img.flatten()[iop_minmax_img.flatten()>0], shade=True, color='maroon')\n",
    "\n",
    "# Distribution des intensités de la matière blanche\n",
    "sns.kdeplot(iop_minmax_wm.flatten()[iop_img_wm.flatten()>0], shade=True, color='firebrick')\n",
    "\n",
    "# Distribution des intensités de la matière grise\n",
    "sns.kdeplot(iop_minmax_gm.flatten()[iop_img_gm.flatten()>0], shade=True, color='salmon')\n",
    "\n",
    "# Distribution des intensités de notre image\n",
    "sns.kdeplot(guys_minmax_img.flatten()[guys_minmax_img.flatten()>0], shade=True, color='darkolivegreen')\n",
    "\n",
    "# Distribution des intensités de la matière blanche\n",
    "sns.kdeplot(guys_minmax_wm.flatten()[guys_img_wm.flatten()>0], shade=True, color='green')\n",
    "\n",
    "# Distribution des intensités de la matière grise\n",
    "sns.kdeplot(guys_minmax_gm.flatten()[guys_img_gm.flatten()>0], shade=True, color='chartreuse')\n",
    "plt.show()"
   ]
  },
  {
   "cell_type": "markdown",
   "metadata": {
    "colab_type": "text",
    "id": "494aLBxoPcv0"
   },
   "source": [
    "On peut voir que nos intensités sont normalisés, mais que les valeurs n'ont pas le même sens pour chaque image."
   ]
  },
  {
   "cell_type": "markdown",
   "metadata": {
    "colab_type": "text",
    "id": "FnD2WjbPPcv1"
   },
   "source": [
    "Nous avons repéré les structures importantes (matière blanche, matière grise) pour chaque image. Maintenant nous allons interpoler nos intensités pour que nos images soient sur la même échelle.\n",
    "\n",
    "Nous allons trouver les pics de matière blanche de chaque image et les faire correspondre à la valeur 1, comme cela si l'on retrouve la valeur 1 sur une image, on saura que le voxel correspondra à de la matière blanche. \n",
    "\n",
    "Nous allons trouver les pics de matière grise de chaque image et les faire correspondre à la valeur 0.7, comme cela si l'on retrouve la valeur 0.7 sur une image, on saura que le voxel correspondra à de la matière grise. "
   ]
  },
  {
   "cell_type": "code",
   "execution_count": null,
   "metadata": {
    "colab": {
     "base_uri": "https://localhost:8080/",
     "height": 513
    },
    "colab_type": "code",
    "executionInfo": {
     "elapsed": 1635,
     "status": "ok",
     "timestamp": 1583325288730,
     "user": {
      "displayName": "Doc Renaud",
      "photoUrl": "",
      "userId": "11833740843400079090"
     },
     "user_tz": -60
    },
    "id": "LrLUD6YGPcv1",
    "outputId": "66ea17e6-b804-41bc-b205-f76b2524b64d"
   },
   "outputs": [],
   "source": [
    "# on récupère les données de notre distribution de matière grise\n",
    "hh_density_gm = sns.kdeplot(hh_img_gm.flatten()[hh_img_gm.flatten()>0], shade=True, color='skyblue').get_lines()[0].get_data()\n",
    "\n",
    "\n",
    "hh_gm_peak_value = np.sort(np.array(hh_density_gm)[1, find_peaks(hh_density_gm[1])[0]])[-1]\n",
    "hh_gm_peak_index = np.squeeze(np.where(hh_density_gm[1] == hh_gm_peak_value))\n",
    "hh_gm_peak = np.array(hh_density_gm)[:, hh_gm_peak_index]\n",
    "\n",
    "plt.scatter(hh_gm_peak[0], hh_gm_peak[1], color='red')\n",
    "plt.show()\n",
    "\n",
    "# on récupère les données de notre distribution de matière blanche\n",
    "hh_density_wm = sns.kdeplot(hh_img_wm.flatten()[hh_img_wm.flatten()>0], shade=True, color='skyblue').get_lines()[0].get_data()\n",
    "\n",
    "\n",
    "hh_wm_peak_value = np.sort(np.array(hh_density_wm)[1, find_peaks(hh_density_wm[1])[0]])[-1]\n",
    "hh_wm_peak_index = np.squeeze(np.where(hh_density_wm[1] == hh_wm_peak_value))\n",
    "hh_wm_peak = np.array(hh_density_wm)[:, hh_wm_peak_index]\n",
    "\n",
    "plt.scatter(hh_wm_peak[0], hh_wm_peak[1], color='red')\n",
    "plt.show()"
   ]
  },
  {
   "cell_type": "markdown",
   "metadata": {
    "colab_type": "text",
    "id": "uNBRcJRzPcv7"
   },
   "source": [
    "Maintenant que nous avons la valeur de nos nouveaux pics nous pouvons interpoler nos intensités."
   ]
  },
  {
   "cell_type": "code",
   "execution_count": null,
   "metadata": {
    "colab": {
     "base_uri": "https://localhost:8080/",
     "height": 265
    },
    "colab_type": "code",
    "executionInfo": {
     "elapsed": 1555,
     "status": "ok",
     "timestamp": 1583325301298,
     "user": {
      "displayName": "Doc Renaud",
      "photoUrl": "",
      "userId": "11833740843400079090"
     },
     "user_tz": -60
    },
    "id": "bHknoEonPcv-",
    "outputId": "473698df-fc53-4f23-a777-93c544a92bae"
   },
   "outputs": [],
   "source": [
    "hh_brain_inter_img = 0.25 * (hh_brain_img - hh_gm_peak[0])/(hh_wm_peak[0]-hh_gm_peak[0]) + 0.75\n",
    "hh_brain_inter_img = np.where(hh_brain_inter_img>=1.5, 1.5, hh_brain_inter_img)\n",
    "\n",
    "sns.kdeplot(hh_brain_inter_img.flatten()[hh_brain_inter_img.flatten()>0], shade=True, color='skyblue')\n",
    "plt.show()"
   ]
  },
  {
   "cell_type": "code",
   "execution_count": null,
   "metadata": {
    "colab": {
     "base_uri": "https://localhost:8080/",
     "height": 517
    },
    "colab_type": "code",
    "executionInfo": {
     "elapsed": 1641,
     "status": "ok",
     "timestamp": 1583325306709,
     "user": {
      "displayName": "Doc Renaud",
      "photoUrl": "",
      "userId": "11833740843400079090"
     },
     "user_tz": -60
    },
    "id": "8x23WdGMPcwB",
    "outputId": "1304f2e7-36a2-461d-c2c7-fcb3cfba042f"
   },
   "outputs": [],
   "source": [
    "# on récupère les données de notre distribution de matière grise\n",
    "iop_density_gm = sns.kdeplot(iop_img_gm.flatten()[iop_img_gm.flatten()>0], shade=True, color='red').get_lines()[0].get_data()\n",
    "\n",
    "\n",
    "iop_gm_peak_value = np.sort(np.array(iop_density_gm)[1, find_peaks(iop_density_gm[1])[0]])[-1]\n",
    "iop_gm_peak_index = np.squeeze(np.where(iop_density_gm[1] == iop_gm_peak_value))\n",
    "iop_gm_peak = np.array(iop_density_gm)[:, iop_gm_peak_index]\n",
    "\n",
    "plt.scatter(iop_gm_peak[0], iop_gm_peak[1], color='red')\n",
    "plt.show()\n",
    "\n",
    "# on récupère les données de notre distribution de matière blanche\n",
    "iop_density_wm = sns.kdeplot(iop_img_wm.flatten()[iop_img_wm.flatten()>0], shade=True, color='red').get_lines()[0].get_data()\n",
    "\n",
    "\n",
    "iop_wm_peak_value = np.sort(np.array(iop_density_wm)[1, find_peaks(iop_density_wm[1])[0]])[-1]\n",
    "iop_wm_peak_index = np.squeeze(np.where(iop_density_wm[1] == iop_wm_peak_value))\n",
    "iop_wm_peak = np.array(iop_density_wm)[:, iop_wm_peak_index]\n",
    "\n",
    "plt.scatter(iop_wm_peak[0], iop_wm_peak[1], color='red')\n",
    "plt.show()"
   ]
  },
  {
   "cell_type": "code",
   "execution_count": null,
   "metadata": {
    "colab": {
     "base_uri": "https://localhost:8080/",
     "height": 266
    },
    "colab_type": "code",
    "executionInfo": {
     "elapsed": 1585,
     "status": "ok",
     "timestamp": 1583325332868,
     "user": {
      "displayName": "Doc Renaud",
      "photoUrl": "",
      "userId": "11833740843400079090"
     },
     "user_tz": -60
    },
    "id": "wvMnKMdJPcwG",
    "outputId": "4185dcb7-e62a-4548-c185-b6e787589a5d"
   },
   "outputs": [],
   "source": [
    "iop_brain_inter_img = 0.25 * (iop_brain_img - iop_gm_peak[0])/(iop_wm_peak[0]-iop_gm_peak[0]) + 0.75\n",
    "iop_brain_inter_img = np.where(iop_brain_inter_img>1.5, 1.5, iop_brain_inter_img)\n",
    "\n",
    "sns.kdeplot(iop_brain_inter_img.flatten()[iop_brain_inter_img.flatten()>0], shade=True, color='red')\n",
    "plt.show()"
   ]
  },
  {
   "cell_type": "code",
   "execution_count": null,
   "metadata": {
    "colab": {
     "base_uri": "https://localhost:8080/",
     "height": 513
    },
    "colab_type": "code",
    "executionInfo": {
     "elapsed": 1580,
     "status": "ok",
     "timestamp": 1583325337626,
     "user": {
      "displayName": "Doc Renaud",
      "photoUrl": "",
      "userId": "11833740843400079090"
     },
     "user_tz": -60
    },
    "id": "TardK0HrPcwI",
    "outputId": "98d0a7f2-d34a-41d1-fe49-74500a54a195"
   },
   "outputs": [],
   "source": [
    "# on récupère les données de notre distribution de matière grise\n",
    "guys_density_gm = sns.kdeplot(guys_img_gm.flatten()[guys_img_gm.flatten()>0], shade=True, color='green').get_lines()[0].get_data()\n",
    "\n",
    "\n",
    "guys_gm_peak_value = np.sort(np.array(guys_density_gm)[1, find_peaks(guys_density_gm[1])[0]])[-1]\n",
    "guys_gm_peak_index = np.squeeze(np.where(guys_density_gm[1] == guys_gm_peak_value))\n",
    "guys_gm_peak = np.array(guys_density_gm)[:, guys_gm_peak_index]\n",
    "\n",
    "plt.scatter(guys_gm_peak[0], guys_gm_peak[1], color='red')\n",
    "plt.show()\n",
    "\n",
    "# on récupère les données de notre distribution de matière blanche\n",
    "guys_density_wm = sns.kdeplot(guys_img_wm.flatten()[guys_img_wm.flatten()>0], shade=True, color='green').get_lines()[0].get_data()\n",
    "\n",
    "\n",
    "guys_wm_peak_value = np.sort(np.array(guys_density_wm)[1, find_peaks(guys_density_wm[1])[0]])[-1]\n",
    "guys_wm_peak_index = np.squeeze(np.where(guys_density_wm[1] == guys_wm_peak_value))\n",
    "guys_wm_peak = np.array(guys_density_wm)[:, guys_wm_peak_index]\n",
    "\n",
    "plt.scatter(guys_wm_peak[0], guys_wm_peak[1], color='red')\n",
    "plt.show()"
   ]
  },
  {
   "cell_type": "code",
   "execution_count": null,
   "metadata": {
    "colab": {
     "base_uri": "https://localhost:8080/",
     "height": 267
    },
    "colab_type": "code",
    "executionInfo": {
     "elapsed": 1474,
     "status": "ok",
     "timestamp": 1583325347608,
     "user": {
      "displayName": "Doc Renaud",
      "photoUrl": "",
      "userId": "11833740843400079090"
     },
     "user_tz": -60
    },
    "id": "nmvreP-PPcwM",
    "outputId": "635f1835-000e-4773-c303-66c51ceea0eb"
   },
   "outputs": [],
   "source": [
    "guys_brain_inter_img = 0.25 * (guys_brain_img - guys_gm_peak[0])/(guys_wm_peak[0]-guys_gm_peak[0]) + 0.75\n",
    "guys_brain_inter_img = np.where(guys_brain_inter_img>1.5, 1.5, guys_brain_inter_img)\n",
    "\n",
    "sns.kdeplot(guys_brain_inter_img.flatten()[guys_brain_inter_img.flatten()>0], shade=True, color='green')\n",
    "plt.show()"
   ]
  },
  {
   "cell_type": "markdown",
   "metadata": {
    "colab_type": "text",
    "id": "HvKZF3oIPcwO"
   },
   "source": [
    "On peut voir que maintenant les intensités sont bien sur la même échelle avec 0.7 pour distinguer la matière grise, 1 pour distinguer la matière blanche et un maximum de 1.5 afin de borner nos valeurs et de ne pas être perturbé par des valeurs aberrantes."
   ]
  },
  {
   "cell_type": "code",
   "execution_count": null,
   "metadata": {
    "colab": {
     "base_uri": "https://localhost:8080/",
     "height": 809
    },
    "colab_type": "code",
    "executionInfo": {
     "elapsed": 6625,
     "status": "ok",
     "timestamp": 1583325367556,
     "user": {
      "displayName": "Doc Renaud",
      "photoUrl": "",
      "userId": "11833740843400079090"
     },
     "user_tz": -60
    },
    "id": "u7vlaCkXPcwP",
    "outputId": "9eaaad98-d5c7-488a-a8c5-afbcc2f519ac"
   },
   "outputs": [],
   "source": [
    "sns.kdeplot(hh_brain_img.flatten()[hh_brain_img.flatten()>0], shade=True, color='blue')\n",
    "\n",
    "sns.kdeplot(iop_brain_img.flatten()[iop_brain_img.flatten()>0], shade=True, color='red')\n",
    "\n",
    "sns.kdeplot(guys_brain_img.flatten()[guys_brain_img.flatten()>0], shade=True, color='green')\n",
    "plt.title('Distribution des intensités avant homogénéisation')\n",
    "plt.show()\n",
    "\n",
    "sns.kdeplot(hh_minmax_img.flatten()[hh_minmax_img.flatten()>0], shade=True, color='blue')\n",
    "\n",
    "sns.kdeplot(iop_minmax_img.flatten()[iop_minmax_img.flatten()>0], shade=True, color='red')\n",
    "\n",
    "sns.kdeplot(guys_minmax_img.flatten()[guys_minmax_img.flatten()>0], shade=True, color='green')\n",
    "plt.title('Distribution des intensités avec min-max normalisation')\n",
    "plt.show()\n",
    "\n",
    "sns.kdeplot(hh_brain_inter_img.flatten()[hh_brain_inter_img.flatten()>0], shade=True, color='blue')\n",
    "\n",
    "sns.kdeplot(iop_brain_inter_img.flatten()[iop_brain_inter_img.flatten()>0], shade=True, color='red')\n",
    "\n",
    "sns.kdeplot(guys_brain_inter_img.flatten()[guys_brain_inter_img.flatten()>0], shade=True, color='green')\n",
    "\n",
    "plt.title('Distribution des intensités après homogénéisation')\n",
    "plt.show()"
   ]
  },
  {
   "cell_type": "markdown",
   "metadata": {
    "colab_type": "text",
    "id": "fgBxFJI-PcwS"
   },
   "source": [
    "## Sauvegarde des résultats\n",
    "\n",
    "Maintenant que l'on a extrait le cerveau de nos images IRM, que l'on a corrigé l'inhomogénéité du champ, mis nos images dans le même espace et placer nos intensités à la même échelle nous allons sauvegarder nos données pour pouvoir les utiliser plus tard dans des algorithmes de deep learning."
   ]
  },
  {
   "cell_type": "code",
   "execution_count": null,
   "metadata": {
    "colab": {},
    "colab_type": "code",
    "id": "vj5bJyiMPcwS"
   },
   "outputs": [],
   "source": [
    "# Récupérer les métadonnées de l'image IRM\n",
    "hh_header = nib.load('/content/gdrive/My Drive/tp_3/data/IXI338/sub-IXI338_space-MNI152NLin2009cAsym_desc-preproc_T1w_brain.nii.gz').header\n",
    "\n",
    "# Nom de votre nouveau fichier \n",
    "hh_name = 'hh_mri_proc.nii.gz'\n",
    "\n",
    "# La fonction Nifti1Image va transformer votre matrice en image Nifti\n",
    "hh_nii = nib.Nifti1Image(hh_brain_inter_img, affine=None, header=hh_header)\n",
    "\n",
    "# Sauver notre nouvelle image\n",
    "nib.save(hh_nii, hh_name)"
   ]
  },
  {
   "cell_type": "code",
   "execution_count": null,
   "metadata": {
    "colab": {},
    "colab_type": "code",
    "id": "ieMCF0SFPcwY"
   },
   "outputs": [],
   "source": [
    "# Récupérer les métadonnées de l'image IRM\n",
    "iop_header = nib.load('/content/gdrive/My Drive/tp_3/data/IXI331/sub-IXI331_space-MNI152NLin2009cAsym_desc-preproc_T1w_brain.nii.gz').header\n",
    "\n",
    "# Nom de votre nouveau fichier \n",
    "iop_name = 'iop_mri_proc.nii.gz'\n",
    "\n",
    "# La fonction Nifti1Image va transformer votre matrice en image Nifti\n",
    "iop_nii = nib.Nifti1Image(iop_brain_inter_img, affine=None, header=iop_header)\n",
    "\n",
    "# Sauver notre nouvelle image\n",
    "nib.save(iop_nii, iop_name)"
   ]
  },
  {
   "cell_type": "code",
   "execution_count": null,
   "metadata": {
    "colab": {},
    "colab_type": "code",
    "id": "32vfO4lfPcwc"
   },
   "outputs": [],
   "source": [
    "# Récupérer les métadonnées de l'image IRM\n",
    "guys_header = nib.load('/content/gdrive/My Drive/tp_3/data/IXI330/sub-330_space-MNI152NLin2009cAsym_desc-preproc_T1w_brain.nii.gz').header\n",
    "\n",
    "# Nom de votre nouveau fichier \n",
    "guys_name = 'guys_mri_proc.nii.gz'\n",
    "\n",
    "# La fonction Nifti1Image va transformer votre matrice en image Nifti\n",
    "guys_nii = nib.Nifti1Image(guys_brain_inter_img, affine=None, header=guys_header)\n",
    "\n",
    "# Sauver notre nouvelle image\n",
    "nib.save(guys_nii, guys_name)"
   ]
  },
  {
   "cell_type": "code",
   "execution_count": null,
   "metadata": {
    "colab": {},
    "colab_type": "code",
    "id": "4TJS0EjqPcwe"
   },
   "outputs": [],
   "source": []
  }
 ],
 "metadata": {
  "colab": {
   "collapsed_sections": [],
   "name": "Copie de Les intensités des IRM en Python en python.ipynb",
   "provenance": [
    {
     "file_id": "https://github.com/MorganGautherot/Tuto_MRI_ML/blob/master/tp_3/Preprocessing_des_irm.ipynb",
     "timestamp": 1583320262072
    }
   ]
  },
  "kernelspec": {
   "display_name": "Python 3",
   "language": "python",
   "name": "python3"
  },
  "language_info": {
   "codemirror_mode": {
    "name": "ipython",
    "version": 3
   },
   "file_extension": ".py",
   "mimetype": "text/x-python",
   "name": "python",
   "nbconvert_exporter": "python",
   "pygments_lexer": "ipython3",
   "version": "3.6.6"
  }
 },
 "nbformat": 4,
 "nbformat_minor": 1
}
