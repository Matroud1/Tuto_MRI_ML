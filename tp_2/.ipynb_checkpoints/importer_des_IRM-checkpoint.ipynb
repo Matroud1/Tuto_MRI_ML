{
 "cells": [
  {
   "cell_type": "markdown",
   "metadata": {
    "colab_type": "text",
    "id": "CBgIOK7yLfrK"
   },
   "source": [
    "# Travailler les IRM structurelles en Python\n",
    "\n",
    "Dans ce notebook, vous apprendrez à charger des IRM en mémoire en utilisant le package NiBabel. Avec ce package, vous pourrez importer et travailler vos images IRM structurelles en utilisant Python. Dans ce tutoriel, nous nous intéressons seulement aux images pondérées T1."
   ]
  },
  {
   "cell_type": "markdown",
   "metadata": {},
   "source": [
    "### Sélection du matériel\n",
    "\n",
    "Avant de commencer nous allons sélectionné le matériel adapté à nos calculs. Le deep learning à besoin de cartes graphiques (GPU) afin de réduire le temps de calculs.\n",
    "\n",
    "Appuyer sur \"Exécution\" -> \"Modifier le type d'exécution\" \n",
    "\n",
    "Dans \"Accélérateur matériel\" sélectionnez GPU puis appuyer sur enregistrer. "
   ]
  },
  {
   "cell_type": "markdown",
   "metadata": {
    "colab_type": "text",
    "id": "_4OdPEkCNabj"
   },
   "source": [
    "## Données\n",
    "\n",
    "Dans ce notebook, je vais utiliser essentiellement les images IRM pondérées T1 de la base IXI. \n",
    "\n",
    "Vous pouvez aussi télécharger ces données, elles sont disponibles sur ce [site](https://brain-development.org/ixi-dataset/).\n",
    "\n"
   ]
  },
  {
   "cell_type": "markdown",
   "metadata": {
    "colab_type": "text",
    "id": "NxQNF-bVOFqM"
   },
   "source": [
    "## Importer les packages"
   ]
  },
  {
   "cell_type": "code",
   "execution_count": null,
   "metadata": {
    "colab": {},
    "colab_type": "code",
    "id": "NPsjz3jAJ3f4"
   },
   "outputs": [],
   "source": [
    "# Calculs scientifiques\n",
    "import numpy as np\n",
    "# Gestion des formats IRM\n",
    "import nibabel as nib\n",
    "# Création et affichage de graphiques\n",
    "import matplotlib.pyplot as plt"
   ]
  },
  {
   "cell_type": "markdown",
   "metadata": {
    "colab_type": "text",
    "id": "UItV85UFOamL"
   },
   "source": [
    "## Importer les données\n",
    "\n",
    "Cliquez sur le lien ci-dessous : \n",
    "\n",
    "https://drive.google.com/open?id=1zgPAAfEbn-71oh1GDnfFb5KogU-0zLjm\n",
    "\n",
    "Cliquer droit sur le dossier data et appuyer sur ajouter à mon drive.\n",
    "\n",
    "<img src=\"images/data_google_drive.png\" width=\"800\" >"
   ]
  },
  {
   "cell_type": "markdown",
   "metadata": {},
   "source": [
    "Exécutez la cellule ci-dessous et appuyer sur le lien proposé. \n",
    "\n",
    "Suivez les instructions et copier le code ci-dessous."
   ]
  },
  {
   "cell_type": "code",
   "execution_count": null,
   "metadata": {},
   "outputs": [],
   "source": [
    "from google.colab import drive\n",
    "drive.mount('/content/gdrive/')"
   ]
  },
  {
   "cell_type": "markdown",
   "metadata": {},
   "source": [
    "Les données sont maintenant dans votre environnement collab."
   ]
  },
  {
   "cell_type": "code",
   "execution_count": null,
   "metadata": {
    "colab": {
     "base_uri": "https://localhost:8080/",
     "height": 971
    },
    "colab_type": "code",
    "id": "twuCLV9XJ_-v",
    "outputId": "7f5bf9db-a7c7-40fc-8466-967632c40989"
   },
   "outputs": [],
   "source": [
    "# La fonction load vous sert à importer vos fichiers\n",
    "mri_img = nib.load('/content/gdrive/My Drive/tp_2/data/IXI330-Guys-0881-T1.nii.gz')\n",
    "print(mri_img)"
   ]
  },
  {
   "cell_type": "markdown",
   "metadata": {
    "colab_type": "text",
    "id": "zB9fI9edRS1s"
   },
   "source": [
    "On voit que notre objet *mri_img* contient beaucoup de données. \n",
    "\n",
    "Dans ce tuto on va avoir besoin principalement de deux choses :\n",
    "\n",
    "- le header ;\n",
    "\n",
    "- l'image IRM."
   ]
  },
  {
   "cell_type": "markdown",
   "metadata": {
    "colab_type": "text",
    "id": "ycenGKE4R4_w"
   },
   "source": [
    "La méthode *get_data* nous retourne notre image sous forme d'une matrice 3D. \n",
    "\n",
    "Chaque case de cette matrice représente un voxel (pixel en 3D)\n",
    "\n",
    "Chaque valeur d'un voxel correspond à l'intensité du voxel sur notre image IRM."
   ]
  },
  {
   "cell_type": "code",
   "execution_count": null,
   "metadata": {
    "colab": {
     "base_uri": "https://localhost:8080/",
     "height": 35
    },
    "colab_type": "code",
    "id": "A_wVYtZ_P6M3",
    "outputId": "c151d0f1-6147-433f-9826-dfa0955fa712"
   },
   "outputs": [],
   "source": [
    "# Extraction du header où sont stocker les métadonnées de la matrice\n",
    "mri_header = mri_img.header\n",
    "mri_affine = mri_img.affine\n",
    "\n",
    "# Extraction des données de l'image IRM\n",
    "mri_matrix = mri_img.get_fdata()\n",
    "\n",
    "# La fonction shape retourne la dimension de la matrice\n",
    "print(mri_matrix.shape)"
   ]
  },
  {
   "cell_type": "markdown",
   "metadata": {
    "colab_type": "text",
    "id": "MwHz6olNTaLi"
   },
   "source": [
    "## Visualisation\n",
    "\n",
    "J'ai trouvé ce bout de code sur le site de [NiBabel](https://nipy.org/nibabel/). \n",
    "\n",
    "Ce code est très pratique pour afficher des coupes de l'image IRM."
   ]
  },
  {
   "cell_type": "code",
   "execution_count": null,
   "metadata": {
    "colab": {
     "base_uri": "https://localhost:8080/",
     "height": 216
    },
    "colab_type": "code",
    "id": "MNnS2btIQEHe",
    "outputId": "70d1f149-01a0-4773-c334-15a3af58c060"
   },
   "outputs": [],
   "source": [
    "def show_slices(slices):\n",
    "    \"\"\" Function to display row of image slices \"\"\"\n",
    "    fig, axes = plt.subplots(1, len(slices))\n",
    "    for i, slice in enumerate(slices):\n",
    "        axes[i].imshow(slice.T, cmap=\"gray\", origin=\"lower\")\n",
    "\n",
    "# Visualisation d'une coupe Axiale\n",
    "slice_0 = mri_matrix[150, :, :]\n",
    "\n",
    "# Visualisation d'une coupe Coronale\n",
    "slice_1 = mri_matrix[:, 30, :]\n",
    "\n",
    "# Visualisation d'une coupe sagittale\n",
    "slice_2 = mri_matrix[:, :, 90]\n",
    "\n",
    "show_slices([slice_0.T, slice_1.T, slice_2])\n",
    "plt.show()"
   ]
  },
  {
   "cell_type": "markdown",
   "metadata": {
    "colab_type": "text",
    "id": "Nv58zvhWVWVq"
   },
   "source": [
    "Bien que l'on peut visualiser certaines coupes avec Python, ce n'est pas le plus optimiser. \n",
    "\n",
    "Je vous conseil des logiciels comme Freesurfer qui permettent de bien mieux visualiser vos images. "
   ]
  },
  {
   "cell_type": "markdown",
   "metadata": {
    "colab_type": "text",
    "id": "grqjnkCiWW4C"
   },
   "source": [
    "## Exemple de traitement : La normalisation\n",
    "\n",
    "À partir de maintenant on ne va plus considérer l'image IRM comme une image, mais plutôt comme une matrice *numpy*. \n",
    "\n",
    "Comme nous avons une matrice, nous pouvons appliquer dessus tous les traitements mathématique que nous souhaitons. "
   ]
  },
  {
   "cell_type": "markdown",
   "metadata": {
    "colab_type": "text",
    "id": "nxpKm1KzX-n5"
   },
   "source": [
    "Imaginons que nous voulons appliquer un algorithme de deep learning sur notre matrice. \n",
    "\n",
    "Nous devons d'abord normaliser nos données pour obtenir des données compris entre 0 et 1 afin d'éviter au maximum les problèmes d'exploding et de vanishing gradient. "
   ]
  },
  {
   "cell_type": "code",
   "execution_count": null,
   "metadata": {
    "colab": {
     "base_uri": "https://localhost:8080/",
     "height": 53
    },
    "colab_type": "code",
    "id": "M2h3mB55YepU",
    "outputId": "71730c0f-9423-4586-e6ac-5c9a2fae7537"
   },
   "outputs": [],
   "source": [
    "print(\"Intensité minimum : \"+str(mri_matrix.min()))\n",
    "print(\"Intensité maximum : \"+str(mri_matrix.max()))"
   ]
  },
  {
   "cell_type": "markdown",
   "metadata": {
    "colab_type": "text",
    "id": "2wxUxKjHYvXo"
   },
   "source": [
    "Nous allons utiliser la min max normalisation :\n",
    "\n",
    "$$ x'=\\frac{x-min(x)}{max(x)-min(x)} $$ "
   ]
  },
  {
   "cell_type": "code",
   "execution_count": null,
   "metadata": {
    "colab": {
     "base_uri": "https://localhost:8080/",
     "height": 53
    },
    "colab_type": "code",
    "id": "-ma5jOdRXwWW",
    "outputId": "4477bf5c-56ff-47a2-e46e-2e35d43a9323"
   },
   "outputs": [],
   "source": [
    "# min max normalisation de notre matrice\n",
    "mri_matrix_norm = (mri_matrix - mri_matrix.min()) / (mri_matrix.max() - mri_matrix.min())\n",
    "\n",
    "print(\"Intensité minimum : \"+str(mri_matrix_norm.min()))\n",
    "print(\"Intensité maximum : \"+str(mri_matrix_norm.max()))"
   ]
  },
  {
   "cell_type": "markdown",
   "metadata": {
    "colab_type": "text",
    "id": "c-KoZistZlzA"
   },
   "source": [
    "On peut vérifier sur notre image si nos données ont été affectées par cette normalisation."
   ]
  },
  {
   "cell_type": "code",
   "execution_count": null,
   "metadata": {
    "colab": {
     "base_uri": "https://localhost:8080/",
     "height": 216
    },
    "colab_type": "code",
    "id": "pfplJmRVX8gZ",
    "outputId": "90c50c6b-57b0-4c2a-d274-3181f7c08105"
   },
   "outputs": [],
   "source": [
    "# Visualisation d'une coupe Axiale de notre nouvelle matrice\n",
    "slice_0 = mri_matrix_norm[150, :, :]\n",
    "\n",
    "# Visualisation d'une coupe Coronale de notre nouvelle matrice\n",
    "slice_1 = mri_matrix_norm[:, 30, :]\n",
    "\n",
    "# Visualisation d'une coupe sagittale de notre nouvelle matrice\n",
    "slice_2 = mri_matrix_norm[:, :, 90]\n",
    "\n",
    "show_slices([slice_0.T, slice_1.T, slice_2])\n",
    "plt.show()"
   ]
  },
  {
   "cell_type": "markdown",
   "metadata": {
    "colab_type": "text",
    "id": "7Zjuo679e9pl"
   },
   "source": [
    "## Enregistrer votre nouvelle image\n",
    "\n",
    "Maintenant que vous avez appliquer vos changements à votre image, vous pourriez vouloir sauver cette nouvelle version. \n",
    "\n",
    "Si vous voulez sauvegarder votre nouvelle image dans le même espace que votre image d'origine vous aurez besoin d'utiliser les informations stockées dans son *header*."
   ]
  },
  {
   "cell_type": "code",
   "execution_count": null,
   "metadata": {
    "colab": {},
    "colab_type": "code",
    "id": "x1WXoR2mZcN6"
   },
   "outputs": [],
   "source": [
    "# Nom de votre nouveau fichier \n",
    "name = 'mri_3dt1_norm.nii.gz'\n",
    "\n",
    "# La fonction Nifti1Image va transformer votre matrice en image Nifti\n",
    "img = nib.Nifti1Image(mri_matrix_norm, affine=mri_affine, header=mri_header)\n",
    "\n",
    "# Sauver notre nouvelle image\n",
    "nib.save(img, name)"
   ]
  }
 ],
 "metadata": {
  "colab": {
   "collapsed_sections": [],
   "name": "Travailler les IRM en Python.ipynb",
   "provenance": []
  },
  "kernelspec": {
   "display_name": "Python 3",
   "language": "python",
   "name": "python3"
  },
  "language_info": {
   "codemirror_mode": {
    "name": "ipython",
    "version": 3
   },
   "file_extension": ".py",
   "mimetype": "text/x-python",
   "name": "python",
   "nbconvert_exporter": "python",
   "pygments_lexer": "ipython3",
   "version": "3.6.6"
  }
 },
 "nbformat": 4,
 "nbformat_minor": 1
}
