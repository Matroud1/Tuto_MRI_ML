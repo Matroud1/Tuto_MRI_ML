{
 "cells": [
  {
   "cell_type": "markdown",
   "metadata": {},
   "source": [
    "## Le deep learning"
   ]
  },
  {
   "cell_type": "markdown",
   "metadata": {},
   "source": [
    "Aujourd'hui, il existe beaucoup de produits dit \"d'Intelligence Artificielle (IA)\", ces applications utilisent majoritairement du Machine Learning (ML), qui est un sous-domaine de l'IA, comme vous pouvez le voir ci-dessous. Le machine learning est un champ d'étude qui permet à des programmes de pouvoir résoudre des problèmes à partir de données sans les avoir explicitement programmé. Le deep learning est seulement un des nombreux algorithmes d'apprentissage du machine learning. \n",
    "\n",
    "<img src=\"data/intelligence_artificielle.png\" width=\"400\">"
   ]
  },
  {
   "cell_type": "markdown",
   "metadata": {},
   "source": [
    "Ici, nous allons nous concentrer sur les problèmatiques d'apprentissage supervisé. Nous allons avoir un jeu de données avec des variables explicatives A et des labels B. Le but de notre algorithme, sera d'apprendre à transformer A en B. Comme vous pouvez le voir ci-dessous, la première étape sera l'entraînement, où l'on donnera des données d'entraînement A et B à un algorithme d'apprentissage. Une fois l'entraînement terminé, l'algorithme nous donne un modèle mathématique. Ce modèle pourra prendre des nouvelles données A' afin de pouvoir estimer leurs résultats B'\n",
    "\n",
    "<img src=\"data/machine_learning.png\" width=\"600\">\n"
   ]
  },
  {
   "cell_type": "markdown",
   "metadata": {},
   "source": [
    "Le deep learning est un algorithme de machine learning basé sur des neurones artificielles. Ces neurones sont des unités de calculs, ils prennt en entrée des informations, les transforment en une valeur et transmettent cette valeur à d'autres neurones.\n",
    "\n",
    "<img src =\"data/neurone.png\" width=\"600\" >\n",
    "\n",
    "Vous pouvez le voir ci-dessous, si l'on met des neurones artificielles en réseau, nous obtenons un réseau de neurones qui permet de prendre en entrée des données A et de changer la représentation de ces données afin de pouvoir transformer plus facilement A en B.\n",
    "\n",
    "<img src =\"data/réseau_de_neurones.png\" width=\"600\" >\n",
    "\n",
    "Initiallement, cet algorithme était censé représenter artificiellement le comportement du cerveau humain. Aujourd'hui, son fonctionnement est bien loin du fonctionnement du cerveau humain même s'il y a encore du vocabulaire hérité de cette inspiration biologique."
   ]
  },
  {
   "cell_type": "markdown",
   "metadata": {},
   "source": [
    "L'avantage du deep learning réside dans la superposition de couches. Cette superposition permet de changer la représentation des données d'entrées de notre réseau pour mettre en valeur différenes caractéristiques de notre jeux de données. Cette nouvelle représentation est élaboré afin de résoudre notre problème plus efficacement. Comme vous pouvez le voir ci-dessous, ça remplace en partie le processus de feature engineering indispensable aux modèles de machines learning classique. \n",
    "\n",
    "<img src =\"data/ml_vs_dl.png\" width=\"700\" >\n",
    "\n",
    "Cette force, a permi le développement d'algorithme de deep learning très robuste capable de mieux comprendre les données non structurés tels que du texte, du son et des images."
   ]
  },
  {
   "cell_type": "markdown",
   "metadata": {},
   "source": [
    "## Les architectures de Convolutional Neural Network (CNN)\n",
    "\n",
    "Comme vous l'avons vue précédemment, le principal avantage des réseaux de neurones par rapport aux algorithmes de machine learning traditionnels est que les algorithmes de deep learning apprennent des représentations par eux-mêmes, alors que dans le machine learning traditionnel, on créé des variables à la main sensé être une meilleure représentation des données. Eh bien, c'est vrai pour les réseaux de neurones de type \"fully connceted\" qui ne sont constitués que de couches entièrement connectées. Mais il est très difficile de les entraîner pour des entrées de haute dimension comme les images.\n",
    "\n",
    "Lorsque vous utilisez une architecture de CNN, vous utilisez deux types de fonctionnalités artisanales : les convolutional layers (les filtres de convolution) et les poolign layers (les filtres de regroupement).\n",
    "\n",
    "Le concepteur du CNN pour la classification des images a examiné les données d'entrée (c'est ce que font les ingénieurs en machine learning traditionnels pour inventer des fonctionnalités) et a décidé que des patchs de pixels proches les uns des autres contiennent des informations qui pourraient aider à la classification, et en même temps réduire le nombre de paramètres. Vous pouvez voir l'application d'un patch sur une image ci-dessous.\n",
    "\n",
    "<img src=\"data/application_de_patchs.gif\" width=\"500\" >\n",
    "\n",
    "En effet, l'application de patchs sur une image permet de transformer l'image et de faire ressortir certaines de ces caractéristiques comme vous pouvez le voir ci-dessous.\n",
    "\n",
    "<img src=\"data/filters.png\" width=\"500\" >"
   ]
  },
  {
   "cell_type": "markdown",
   "metadata": {},
   "source": [
    "Le but du CNN est de transformer notre image de départ en vecteur qui serait la représentation vectorielle des caractéristiques de notre image. \n",
    "\n",
    "<img src=\"data/conv_nn.png\" width=\"600\" >\n",
    "\n",
    "Une fois que nous avons extrait les caractéristiques de notre image sous forme de vecteur, nous pouvons utiliser cette représentation afin de résoudre un problème lié à notre image. Sur l'illustration ci-dessous, vous pouvez bien voir les deux différentes parties qui consistuent notre réseau. \n",
    "\n",
    "<img src=\"data/CNN.png\" width=\"800\" >"
   ]
  },
  {
   "cell_type": "markdown",
   "metadata": {},
   "source": [
    "## Exemple CNN"
   ]
  },
  {
   "cell_type": "markdown",
   "metadata": {},
   "source": [
    "Ne vous inquiétez pas, vous n'allez pas avoir besoin de connaître toutes les mathématiques qui se cachent derrière les réseaux convolutionel pour pouvoir les utiliser. \n",
    "Grâce à Tensorflow et sa sur-couche Keras, vous pouvez construire un modèle en quelques cliques.\n",
    "\n",
    "### Importation des packages\n",
    "\n",
    "On va commencer par importer les packages nécessaires à l'élaboration de notre modèle."
   ]
  },
  {
   "cell_type": "code",
   "execution_count": 66,
   "metadata": {},
   "outputs": [],
   "source": [
    "import math\n",
    "import numpy as np\n",
    "import h5py\n",
    "import matplotlib.pyplot as plt\n",
    "import scipy\n",
    "from PIL import Image\n",
    "from scipy import ndimage\n",
    "import tensorflow as tf\n",
    "from tensorflow.python.framework import ops\n",
    "\n",
    "import matplotlib.pyplot as plt\n",
    "import numpy as np\n",
    "from tensorflow.keras.optimizers import SGD\n",
    "from tensorflow.keras.models import Sequential\n",
    "from tensorflow.keras.layers import Dense, Dropout, Flatten\n",
    "from tensorflow.keras.layers import Conv2D, MaxPooling2D\n"
   ]
  },
  {
   "cell_type": "markdown",
   "metadata": {},
   "source": [
    "### Importations des données\n",
    "\n",
    "Maintenant que nos outils sont chargés, nous allons charger nos données."
   ]
  },
  {
   "cell_type": "code",
   "execution_count": 67,
   "metadata": {},
   "outputs": [],
   "source": [
    "train_dataset = h5py.File('data/train_signs.h5', \"r\")\n",
    "train_set_x_orig = np.array(train_dataset[\"train_set_x\"][:])\n",
    "train_set_y_orig = np.array(train_dataset[\"train_set_y\"][:])\n",
    "\n",
    "test_dataset = h5py.File('data/test_signs.h5', \"r\")\n",
    "test_set_x_orig = np.array(test_dataset[\"test_set_x\"][:]) \n",
    "test_set_y_orig = np.array(test_dataset[\"test_set_y\"][:]) \n",
    "\n",
    "classes = np.array(test_dataset[\"list_classes\"][:]) \n",
    "  \n",
    "train_set_y_orig = train_set_y_orig.reshape((1, train_set_y_orig.shape[0]))\n",
    "test_set_y_orig = test_set_y_orig.reshape((1, test_set_y_orig.shape[0]))\n",
    "\n",
    "input_shape = train_set_x_orig[0].shape"
   ]
  },
  {
   "cell_type": "markdown",
   "metadata": {},
   "source": [
    "Dans cet exemple, nous allons créer un modèle de deep learning capable de reconnaître quel chiffre fait la main une photo. Comme vous pouvez le voir ci-dessous, nous avons 5 classes. \n",
    "\n",
    "<img src=\"data/signes.png\" width=\"800\" >"
   ]
  },
  {
   "cell_type": "markdown",
   "metadata": {},
   "source": [
    "Vous pouvez directement voir les exemples depuis le jeu de données."
   ]
  },
  {
   "cell_type": "code",
   "execution_count": 68,
   "metadata": {},
   "outputs": [
    {
     "name": "stdout",
     "output_type": "stream",
     "text": [
      "y = 5\n"
     ]
    },
    {
     "data": {
      "image/png": "[encoded data removed]",
      "text/plain": [
       "<Figure size 432x288 with 1 Axes>"
      ]
     },
     "metadata": {
      "needs_background": "light"
     },
     "output_type": "display_data"
    }
   ],
   "source": [
    "# Example of a picture\n",
    "index = 0\n",
    "plt.imshow(train_set_x_orig[index])\n",
    "print (\"y = \" + str(np.squeeze(train_set_y_orig[:, index])))"
   ]
  },
  {
   "cell_type": "markdown",
   "metadata": {},
   "source": [
    "Vous pouvez voir ci-dessous que nos images sont en trois dimensions 64 x 64 x 3.\n",
    "\n",
    "La première dimension de 64 correspond à la hauteur en pixel de la photo, ici 64 pixels.\n",
    "\n",
    "La deuxième dimension de 64 correspond à la largeur en pixel de la photo, ici 64 pixels.\n",
    "\n",
    "La troisième dimension correspond aux intensités de rouge, de vert et de bleu nécessaire pour former la couleur du pixel.\n",
    "\n",
    "<img src=\"data/RGB-color-model.jpg\" width=\"300\" >"
   ]
  },
  {
   "cell_type": "code",
   "execution_count": 69,
   "metadata": {},
   "outputs": [
    {
     "name": "stdout",
     "output_type": "stream",
     "text": [
      "(64, 64, 3)\n"
     ]
    }
   ],
   "source": [
    "print(train_set_x_orig[0].shape)"
   ]
  },
  {
   "cell_type": "markdown",
   "metadata": {},
   "source": [
    "Pour créer des images en informatique, il n'y a pas une intensité par couleur, ce serait trop complexe à organiser. Pour remédier à cela, nous avons pris trois couleurs (rouge, vert et bleu) et chaque couleur sera une combinaison d'intensité de ces trois couleurs. Le schéma ci-dessous va sûrement vous aider à comprendre le problème. \n",
    "\n",
    "<img src=\"data/image_en_rgb.png\" width=\"600\" >"
   ]
  },
  {
   "cell_type": "markdown",
   "metadata": {},
   "source": [
    "### Normalisation\n",
    "\n",
    "Pour des raisons d'optimisation, nous voulons que les données d'entrées de notre modèle soient petit, voir compris entre 0 et 1.\n",
    "\n",
    "La bonne nouvelle, c'est que les intensités d'une image sont toujours comprises entre 0 et 255. Nous allons donc utiliser la min-max normalisation afin de réduire la valeur des intensités de nos images."
   ]
  },
  {
   "cell_type": "code",
   "execution_count": 107,
   "metadata": {},
   "outputs": [
    {
     "name": "stdout",
     "output_type": "stream",
     "text": [
      "Valeur maximum de nos images :  4\n",
      "Valeur minimum de nos images :  244\n",
      "Valeur maximum de nos images normalisées :  0.015686275\n",
      "Valeur minimum de nos images normalisées :  0.95686275\n"
     ]
    }
   ],
   "source": [
    "print('Valeur maximum de nos images : ',np.min(train_set_x_orig))\n",
    "print('Valeur minimum de nos images : ', np.max(train_set_x_orig))\n",
    "\n",
    "X_train = train_set_x_orig.astype('float32')/255\n",
    "X_test = test_set_x_orig.astype('float32')/255\n",
    "\n",
    "print('Valeur maximum de nos images normalisées : ',np.min(X_train))\n",
    "print('Valeur minimum de nos images normalisées : ',np.max(X_train))"
   ]
  },
  {
   "cell_type": "markdown",
   "metadata": {},
   "source": [
    "Dans nos vecteurs \"train_set_y_orig\" et \"test_set_y_orig\" nous avons le chiffre correspond à l'image de la main.\n",
    "\n",
    "Nous allons transformer nos valeurs en hot vecteur, c'est-à-dire au lieu d'avoir la valeur 5 on aura un vecteur avec un 1 à la 5ème case. \n",
    "\n",
    "<img src=\"data/hot_vecteur.png\" width=\"800\" >"
   ]
  },
  {
   "cell_type": "code",
   "execution_count": 108,
   "metadata": {},
   "outputs": [
    {
     "name": "stdout",
     "output_type": "stream",
     "text": [
      "(1, 1080)\n",
      "(1, 120)\n"
     ]
    }
   ],
   "source": [
    "print(train_set_y_orig.shape)\n",
    "print(test_set_y_orig.shape)"
   ]
  },
  {
   "cell_type": "code",
   "execution_count": 127,
   "metadata": {},
   "outputs": [
    {
     "name": "stdout",
     "output_type": "stream",
     "text": [
      "[0. 0. 0. 1. 0. 0.]\n",
      "[3]\n"
     ]
    }
   ],
   "source": [
    "Y_train = np.eye(6)[train_set_y_orig.reshape(-1)]\n",
    "Y_test = np.eye(6)[test_set_y_orig.reshape(-1)]\n",
    "#Y_train = train_set_y_orig.reshape(1080,)\n",
    "#Y_test = test_set_y_orig.reshape(120,)\n",
    "print(Y_train[150, :])\n",
    "print((train_set_y_orig[:, 150]))"
   ]
  },
  {
   "cell_type": "markdown",
   "metadata": {},
   "source": [
    "### Construction de notre modèle"
   ]
  },
  {
   "cell_type": "markdown",
   "metadata": {},
   "source": [
    "Ici nous allons créer un modèle basique de CNN."
   ]
  },
  {
   "cell_type": "code",
   "execution_count": 142,
   "metadata": {},
   "outputs": [],
   "source": [
    "model = Sequential()"
   ]
  },
  {
   "cell_type": "markdown",
   "metadata": {},
   "source": [
    "Nous allons commencer notre modèle par une couche de convolution. Comme vous pouvez voir ci-dessous, c'est simplement l'application d'un filtre sur notre image pour extraire des caractéristiques.\n",
    "\n",
    "<img src=\"data/convolution_anim.gif\" width=\"800\" >"
   ]
  },
  {
   "cell_type": "code",
   "execution_count": 143,
   "metadata": {},
   "outputs": [],
   "source": [
    "model.add(Conv2D(32, \n",
    "                 kernel_size=(3, 3),\n",
    "                 activation='relu',\n",
    "                 input_shape=(64,64,3)))\n",
    "model.add(Conv2D(32, \n",
    "                 kernel_size=(3, 3),\n",
    "                 activation='relu',\n",
    "                 input_shape=(64,64,3)))"
   ]
  },
  {
   "cell_type": "markdown",
   "metadata": {},
   "source": [
    "Nous allons maintenant ajouter une couche de max-pooling. Comme vous pouvez voir ci-dessous, c'est simplement la sélection de l'intensité la plus grande parmi une sélection de pixels.\n",
    "\n",
    "<img src=\"data/pooling_anim.gif\" width=\"800\" >"
   ]
  },
  {
   "cell_type": "code",
   "execution_count": 144,
   "metadata": {},
   "outputs": [],
   "source": [
    "model.add(MaxPooling2D(pool_size=(2, 2)))"
   ]
  },
  {
   "cell_type": "markdown",
   "metadata": {},
   "source": [
    "Maintenant que nous avons extrait des informations de notre image, nous allons transformer ces représentations en vecteur.\n",
    "\n",
    "<img src=\"data/flatten.gif\" width=\"500\" >"
   ]
  },
  {
   "cell_type": "code",
   "execution_count": 145,
   "metadata": {},
   "outputs": [],
   "source": [
    "model.add(Flatten())"
   ]
  },
  {
   "cell_type": "markdown",
   "metadata": {},
   "source": [
    "Pour finir, nous allons utiliser des couches entièrement connectées pour prédire l'appartenance de nos observations à nos classes.\n",
    "\n",
    "<img src=\"data/fully_connected.png\" width=\"500\" >"
   ]
  },
  {
   "cell_type": "code",
   "execution_count": 146,
   "metadata": {},
   "outputs": [],
   "source": [
    "model.add(Dense(6, activation='softmax'))"
   ]
  },
  {
   "cell_type": "markdown",
   "metadata": {},
   "source": [
    "Notre modèle est assemblé, nous pouvons maintenant le visualiser."
   ]
  },
  {
   "cell_type": "code",
   "execution_count": 147,
   "metadata": {},
   "outputs": [
    {
     "name": "stdout",
     "output_type": "stream",
     "text": [
      "Model: \"sequential_10\"\n",
      "_________________________________________________________________\n",
      "Layer (type)                 Output Shape              Param #   \n",
      "=================================================================\n",
      "conv2d_12 (Conv2D)           (None, 62, 62, 32)        896       \n",
      "_________________________________________________________________\n",
      "conv2d_13 (Conv2D)           (None, 60, 60, 32)        9248      \n",
      "_________________________________________________________________\n",
      "max_pooling2d_10 (MaxPooling (None, 30, 30, 32)        0         \n",
      "_________________________________________________________________\n",
      "flatten_10 (Flatten)         (None, 28800)             0         \n",
      "_________________________________________________________________\n",
      "dense_12 (Dense)             (None, 6)                 172806    \n",
      "=================================================================\n",
      "Total params: 182,950\n",
      "Trainable params: 182,950\n",
      "Non-trainable params: 0\n",
      "_________________________________________________________________\n"
     ]
    }
   ],
   "source": [
    "model.summary()"
   ]
  },
  {
   "cell_type": "markdown",
   "metadata": {},
   "source": [
    "Voici une représentation plus visuelle du modèle.\n",
    "\n",
    "<img src=\"data/baseline.png\" width=\"800\" >"
   ]
  },
  {
   "cell_type": "markdown",
   "metadata": {},
   "source": [
    "Nous voilà à la dernière étape, l'entraînement de notre modèle."
   ]
  },
  {
   "cell_type": "code",
   "execution_count": 150,
   "metadata": {},
   "outputs": [
    {
     "name": "stdout",
     "output_type": "stream",
     "text": [
      "Train on 1080 samples, validate on 120 samples\n",
      "Epoch 1/100\n",
      "1080/1080 [==============================] - 0s 344us/sample - loss: 0.2273 - acc: 0.9500 - val_loss: 0.6360 - val_acc: 0.7500\n",
      "Epoch 2/100\n",
      "1080/1080 [==============================] - 0s 217us/sample - loss: 0.2237 - acc: 0.9481 - val_loss: 0.6614 - val_acc: 0.7750\n",
      "Epoch 3/100\n",
      "1080/1080 [==============================] - 0s 241us/sample - loss: 0.2010 - acc: 0.9528 - val_loss: 0.5309 - val_acc: 0.8167\n",
      "Epoch 4/100\n",
      "1080/1080 [==============================] - 0s 245us/sample - loss: 0.1546 - acc: 0.9759 - val_loss: 0.5613 - val_acc: 0.7500\n",
      "Epoch 5/100\n",
      "1080/1080 [==============================] - 0s 244us/sample - loss: 0.1731 - acc: 0.9463 - val_loss: 0.5381 - val_acc: 0.8083\n",
      "Epoch 6/100\n",
      "1080/1080 [==============================] - 0s 243us/sample - loss: 0.1082 - acc: 0.9898 - val_loss: 0.5580 - val_acc: 0.8417\n",
      "Epoch 7/100\n",
      "1080/1080 [==============================] - 0s 243us/sample - loss: 0.1165 - acc: 0.9787 - val_loss: 0.5193 - val_acc: 0.8250\n",
      "Epoch 8/100\n",
      "1080/1080 [==============================] - 0s 234us/sample - loss: 0.0865 - acc: 0.9935 - val_loss: 0.4640 - val_acc: 0.8333\n",
      "Epoch 9/100\n",
      "1080/1080 [==============================] - 0s 248us/sample - loss: 0.0899 - acc: 0.9880 - val_loss: 0.4665 - val_acc: 0.8250\n",
      "Epoch 10/100\n",
      "1080/1080 [==============================] - 0s 240us/sample - loss: 0.0802 - acc: 0.9880 - val_loss: 0.5098 - val_acc: 0.8500\n",
      "Epoch 11/100\n",
      "1080/1080 [==============================] - 0s 239us/sample - loss: 0.0653 - acc: 0.9963 - val_loss: 0.4617 - val_acc: 0.8500\n",
      "Epoch 12/100\n",
      "1080/1080 [==============================] - 0s 241us/sample - loss: 0.0570 - acc: 0.9981 - val_loss: 0.4749 - val_acc: 0.8417\n",
      "Epoch 13/100\n",
      "1080/1080 [==============================] - 0s 241us/sample - loss: 0.0587 - acc: 0.9954 - val_loss: 0.4784 - val_acc: 0.8333\n",
      "Epoch 14/100\n",
      "1080/1080 [==============================] - 0s 242us/sample - loss: 0.0502 - acc: 0.9972 - val_loss: 0.4594 - val_acc: 0.8667\n",
      "Epoch 15/100\n",
      "1080/1080 [==============================] - 0s 241us/sample - loss: 0.0436 - acc: 0.9981 - val_loss: 0.4631 - val_acc: 0.8500\n",
      "Epoch 16/100\n",
      "1080/1080 [==============================] - 0s 244us/sample - loss: 0.0412 - acc: 0.9981 - val_loss: 0.4561 - val_acc: 0.8583\n",
      "Epoch 17/100\n",
      "1080/1080 [==============================] - 0s 241us/sample - loss: 0.0343 - acc: 0.9981 - val_loss: 0.4749 - val_acc: 0.8750\n",
      "Epoch 18/100\n",
      "1080/1080 [==============================] - 0s 240us/sample - loss: 0.0324 - acc: 0.9991 - val_loss: 0.4543 - val_acc: 0.8583\n",
      "Epoch 19/100\n",
      "1080/1080 [==============================] - 0s 245us/sample - loss: 0.0315 - acc: 0.9991 - val_loss: 0.4488 - val_acc: 0.8583\n",
      "Epoch 20/100\n",
      "1080/1080 [==============================] - 0s 243us/sample - loss: 0.0289 - acc: 0.9991 - val_loss: 0.4691 - val_acc: 0.8583\n",
      "Epoch 21/100\n",
      "1080/1080 [==============================] - 0s 239us/sample - loss: 0.0297 - acc: 0.9991 - val_loss: 0.5026 - val_acc: 0.8250\n",
      "Epoch 22/100\n",
      "1080/1080 [==============================] - 0s 241us/sample - loss: 0.0248 - acc: 0.9991 - val_loss: 0.7055 - val_acc: 0.7917\n",
      "Epoch 23/100\n",
      "1080/1080 [==============================] - 0s 242us/sample - loss: 0.0250 - acc: 0.9991 - val_loss: 0.4803 - val_acc: 0.8417\n",
      "Epoch 24/100\n",
      "1080/1080 [==============================] - 0s 242us/sample - loss: 0.0224 - acc: 0.9991 - val_loss: 0.4607 - val_acc: 0.8583\n",
      "Epoch 25/100\n",
      "1080/1080 [==============================] - 0s 241us/sample - loss: 0.0216 - acc: 0.9991 - val_loss: 0.4617 - val_acc: 0.8500\n",
      "Epoch 26/100\n",
      "1080/1080 [==============================] - 0s 240us/sample - loss: 0.0199 - acc: 1.0000 - val_loss: 0.4575 - val_acc: 0.8583\n",
      "Epoch 27/100\n",
      "1080/1080 [==============================] - 0s 243us/sample - loss: 0.0188 - acc: 1.0000 - val_loss: 0.4536 - val_acc: 0.8500\n",
      "Epoch 28/100\n",
      "1080/1080 [==============================] - 0s 237us/sample - loss: 0.0179 - acc: 1.0000 - val_loss: 0.4673 - val_acc: 0.8500\n",
      "Epoch 29/100\n",
      "1080/1080 [==============================] - 0s 240us/sample - loss: 0.0168 - acc: 1.0000 - val_loss: 0.4615 - val_acc: 0.8667\n",
      "Epoch 30/100\n",
      "1080/1080 [==============================] - 0s 240us/sample - loss: 0.0157 - acc: 1.0000 - val_loss: 0.4664 - val_acc: 0.8583\n",
      "Epoch 31/100\n",
      "1080/1080 [==============================] - 0s 239us/sample - loss: 0.0153 - acc: 1.0000 - val_loss: 0.5079 - val_acc: 0.8417\n",
      "Epoch 32/100\n",
      "1080/1080 [==============================] - 0s 239us/sample - loss: 0.0147 - acc: 1.0000 - val_loss: 0.4772 - val_acc: 0.8667\n",
      "Epoch 33/100\n",
      "1080/1080 [==============================] - 0s 240us/sample - loss: 0.0137 - acc: 1.0000 - val_loss: 0.4877 - val_acc: 0.8583\n",
      "Epoch 34/100\n",
      "1080/1080 [==============================] - 0s 238us/sample - loss: 0.0131 - acc: 1.0000 - val_loss: 0.4956 - val_acc: 0.8500\n",
      "Epoch 35/100\n",
      "1080/1080 [==============================] - 0s 242us/sample - loss: 0.0128 - acc: 1.0000 - val_loss: 0.4775 - val_acc: 0.8667\n",
      "Epoch 36/100\n",
      "1080/1080 [==============================] - 0s 239us/sample - loss: 0.0122 - acc: 1.0000 - val_loss: 0.5180 - val_acc: 0.8333\n",
      "Epoch 37/100\n",
      "1080/1080 [==============================] - 0s 241us/sample - loss: 0.0119 - acc: 1.0000 - val_loss: 0.4840 - val_acc: 0.8667\n",
      "Epoch 38/100\n",
      "1080/1080 [==============================] - 0s 241us/sample - loss: 0.0113 - acc: 1.0000 - val_loss: 0.4940 - val_acc: 0.8417\n",
      "Epoch 39/100\n",
      "1080/1080 [==============================] - 0s 240us/sample - loss: 0.0111 - acc: 1.0000 - val_loss: 0.4821 - val_acc: 0.8583\n",
      "Epoch 40/100\n",
      "1080/1080 [==============================] - 0s 242us/sample - loss: 0.0107 - acc: 1.0000 - val_loss: 0.4685 - val_acc: 0.8667\n",
      "Epoch 41/100\n",
      "1080/1080 [==============================] - 0s 240us/sample - loss: 0.0104 - acc: 1.0000 - val_loss: 0.5075 - val_acc: 0.8583\n",
      "Epoch 42/100\n",
      "1080/1080 [==============================] - 0s 241us/sample - loss: 0.0098 - acc: 1.0000 - val_loss: 0.4931 - val_acc: 0.8667\n",
      "Epoch 43/100\n",
      "1080/1080 [==============================] - 0s 242us/sample - loss: 0.0095 - acc: 1.0000 - val_loss: 0.5098 - val_acc: 0.8583\n",
      "Epoch 44/100\n",
      "1080/1080 [==============================] - 0s 243us/sample - loss: 0.0091 - acc: 1.0000 - val_loss: 0.4919 - val_acc: 0.8583\n",
      "Epoch 45/100\n",
      "1080/1080 [==============================] - 0s 240us/sample - loss: 0.0092 - acc: 1.0000 - val_loss: 0.5064 - val_acc: 0.8583\n",
      "Epoch 46/100\n",
      "1080/1080 [==============================] - 0s 241us/sample - loss: 0.0087 - acc: 1.0000 - val_loss: 0.5152 - val_acc: 0.8500\n",
      "Epoch 47/100\n",
      "1080/1080 [==============================] - 0s 241us/sample - loss: 0.0085 - acc: 1.0000 - val_loss: 0.4877 - val_acc: 0.8667\n",
      "Epoch 48/100\n",
      "1080/1080 [==============================] - 0s 241us/sample - loss: 0.0082 - acc: 1.0000 - val_loss: 0.5020 - val_acc: 0.8583\n",
      "Epoch 49/100\n",
      "1080/1080 [==============================] - 0s 241us/sample - loss: 0.0079 - acc: 1.0000 - val_loss: 0.5052 - val_acc: 0.8667\n",
      "Epoch 50/100\n",
      "1080/1080 [==============================] - 0s 239us/sample - loss: 0.0079 - acc: 1.0000 - val_loss: 0.5141 - val_acc: 0.8583\n",
      "Epoch 51/100\n",
      "1080/1080 [==============================] - 0s 240us/sample - loss: 0.0076 - acc: 1.0000 - val_loss: 0.4991 - val_acc: 0.8500\n",
      "Epoch 52/100\n",
      "1080/1080 [==============================] - 0s 240us/sample - loss: 0.0073 - acc: 1.0000 - val_loss: 0.5024 - val_acc: 0.8583\n",
      "Epoch 53/100\n",
      "1080/1080 [==============================] - 0s 239us/sample - loss: 0.0072 - acc: 1.0000 - val_loss: 0.5102 - val_acc: 0.8583\n",
      "Epoch 54/100\n",
      "1080/1080 [==============================] - 0s 242us/sample - loss: 0.0069 - acc: 1.0000 - val_loss: 0.4880 - val_acc: 0.8667\n",
      "Epoch 55/100\n",
      "1080/1080 [==============================] - 0s 243us/sample - loss: 0.0068 - acc: 1.0000 - val_loss: 0.5097 - val_acc: 0.8583\n",
      "Epoch 56/100\n",
      "1080/1080 [==============================] - 0s 242us/sample - loss: 0.0067 - acc: 1.0000 - val_loss: 0.5320 - val_acc: 0.8500\n",
      "Epoch 57/100\n",
      "1080/1080 [==============================] - 0s 241us/sample - loss: 0.0065 - acc: 1.0000 - val_loss: 0.5053 - val_acc: 0.8583\n",
      "Epoch 58/100\n",
      "1080/1080 [==============================] - 0s 241us/sample - loss: 0.0063 - acc: 1.0000 - val_loss: 0.5330 - val_acc: 0.8667\n",
      "Epoch 59/100\n",
      "1080/1080 [==============================] - 0s 242us/sample - loss: 0.0062 - acc: 1.0000 - val_loss: 0.5315 - val_acc: 0.8583\n",
      "Epoch 60/100\n",
      "1080/1080 [==============================] - 0s 239us/sample - loss: 0.0060 - acc: 1.0000 - val_loss: 0.5248 - val_acc: 0.8500\n",
      "Epoch 61/100\n",
      "1080/1080 [==============================] - 0s 244us/sample - loss: 0.0060 - acc: 1.0000 - val_loss: 0.5229 - val_acc: 0.8667\n",
      "Epoch 62/100\n",
      "1080/1080 [==============================] - 0s 246us/sample - loss: 0.0058 - acc: 1.0000 - val_loss: 0.5279 - val_acc: 0.8583\n",
      "Epoch 63/100\n",
      "1080/1080 [==============================] - 0s 241us/sample - loss: 0.0056 - acc: 1.0000 - val_loss: 0.5318 - val_acc: 0.8500\n",
      "Epoch 64/100\n",
      "1080/1080 [==============================] - 0s 242us/sample - loss: 0.0055 - acc: 1.0000 - val_loss: 0.5268 - val_acc: 0.8583\n",
      "Epoch 65/100\n",
      "1080/1080 [==============================] - 0s 239us/sample - loss: 0.0054 - acc: 1.0000 - val_loss: 0.5142 - val_acc: 0.8667\n",
      "Epoch 66/100\n",
      "1080/1080 [==============================] - 0s 241us/sample - loss: 0.0053 - acc: 1.0000 - val_loss: 0.5176 - val_acc: 0.8667\n",
      "Epoch 67/100\n",
      "1080/1080 [==============================] - 0s 239us/sample - loss: 0.0052 - acc: 1.0000 - val_loss: 0.5125 - val_acc: 0.8667\n",
      "Epoch 68/100\n",
      "1080/1080 [==============================] - 0s 244us/sample - loss: 0.0051 - acc: 1.0000 - val_loss: 0.5351 - val_acc: 0.8583\n",
      "Epoch 69/100\n",
      "1080/1080 [==============================] - 0s 239us/sample - loss: 0.0050 - acc: 1.0000 - val_loss: 0.5143 - val_acc: 0.8500\n",
      "Epoch 70/100\n",
      "1080/1080 [==============================] - 0s 242us/sample - loss: 0.0050 - acc: 1.0000 - val_loss: 0.5212 - val_acc: 0.8583\n",
      "Epoch 71/100\n",
      "1080/1080 [==============================] - 0s 242us/sample - loss: 0.0048 - acc: 1.0000 - val_loss: 0.5218 - val_acc: 0.8667\n",
      "Epoch 72/100\n",
      "1080/1080 [==============================] - 0s 239us/sample - loss: 0.0047 - acc: 1.0000 - val_loss: 0.5319 - val_acc: 0.8667\n",
      "Epoch 73/100\n",
      "1080/1080 [==============================] - 0s 245us/sample - loss: 0.0046 - acc: 1.0000 - val_loss: 0.5439 - val_acc: 0.8667\n",
      "Epoch 74/100\n",
      "1080/1080 [==============================] - 0s 244us/sample - loss: 0.0045 - acc: 1.0000 - val_loss: 0.5291 - val_acc: 0.8667\n",
      "Epoch 75/100\n",
      "1080/1080 [==============================] - 0s 240us/sample - loss: 0.0045 - acc: 1.0000 - val_loss: 0.5289 - val_acc: 0.8667\n",
      "Epoch 76/100\n",
      "1080/1080 [==============================] - 0s 244us/sample - loss: 0.0044 - acc: 1.0000 - val_loss: 0.5274 - val_acc: 0.8500\n",
      "Epoch 77/100\n",
      "1080/1080 [==============================] - 0s 243us/sample - loss: 0.0043 - acc: 1.0000 - val_loss: 0.5309 - val_acc: 0.8583\n",
      "Epoch 78/100\n",
      "1080/1080 [==============================] - 0s 241us/sample - loss: 0.0043 - acc: 1.0000 - val_loss: 0.5391 - val_acc: 0.8500\n",
      "Epoch 79/100\n",
      "1080/1080 [==============================] - 0s 241us/sample - loss: 0.0041 - acc: 1.0000 - val_loss: 0.5260 - val_acc: 0.8583\n",
      "Epoch 80/100\n",
      "1080/1080 [==============================] - 0s 238us/sample - loss: 0.0041 - acc: 1.0000 - val_loss: 0.5475 - val_acc: 0.8500\n",
      "Epoch 81/100\n",
      "1080/1080 [==============================] - 0s 240us/sample - loss: 0.0041 - acc: 1.0000 - val_loss: 0.5363 - val_acc: 0.8500\n",
      "Epoch 82/100\n",
      "1080/1080 [==============================] - 0s 242us/sample - loss: 0.0039 - acc: 1.0000 - val_loss: 0.5175 - val_acc: 0.8583\n",
      "Epoch 83/100\n",
      "1080/1080 [==============================] - 0s 241us/sample - loss: 0.0039 - acc: 1.0000 - val_loss: 0.5393 - val_acc: 0.8583\n",
      "Epoch 84/100\n",
      "1080/1080 [==============================] - 0s 242us/sample - loss: 0.0038 - acc: 1.0000 - val_loss: 0.5374 - val_acc: 0.8667\n",
      "Epoch 85/100\n",
      "1080/1080 [==============================] - 0s 242us/sample - loss: 0.0037 - acc: 1.0000 - val_loss: 0.5408 - val_acc: 0.8667\n",
      "Epoch 86/100\n",
      "1080/1080 [==============================] - 0s 244us/sample - loss: 0.0037 - acc: 1.0000 - val_loss: 0.5511 - val_acc: 0.8583\n",
      "Epoch 87/100\n",
      "1080/1080 [==============================] - 0s 241us/sample - loss: 0.0037 - acc: 1.0000 - val_loss: 0.5336 - val_acc: 0.8583\n",
      "Epoch 88/100\n",
      "1080/1080 [==============================] - 0s 243us/sample - loss: 0.0036 - acc: 1.0000 - val_loss: 0.5486 - val_acc: 0.8583\n",
      "Epoch 89/100\n",
      "1080/1080 [==============================] - 0s 241us/sample - loss: 0.0036 - acc: 1.0000 - val_loss: 0.5389 - val_acc: 0.8667\n",
      "Epoch 90/100\n",
      "1080/1080 [==============================] - 0s 241us/sample - loss: 0.0035 - acc: 1.0000 - val_loss: 0.5377 - val_acc: 0.8583\n",
      "Epoch 91/100\n",
      "1080/1080 [==============================] - 0s 242us/sample - loss: 0.0035 - acc: 1.0000 - val_loss: 0.5420 - val_acc: 0.8667\n",
      "Epoch 92/100\n",
      "1080/1080 [==============================] - 0s 240us/sample - loss: 0.0034 - acc: 1.0000 - val_loss: 0.5452 - val_acc: 0.8583\n",
      "Epoch 93/100\n",
      "1080/1080 [==============================] - 0s 241us/sample - loss: 0.0034 - acc: 1.0000 - val_loss: 0.5555 - val_acc: 0.8417\n",
      "Epoch 94/100\n",
      "1080/1080 [==============================] - 0s 239us/sample - loss: 0.0033 - acc: 1.0000 - val_loss: 0.5383 - val_acc: 0.8500\n",
      "Epoch 95/100\n",
      "1080/1080 [==============================] - 0s 238us/sample - loss: 0.0033 - acc: 1.0000 - val_loss: 0.5661 - val_acc: 0.8583\n",
      "Epoch 96/100\n",
      "1080/1080 [==============================] - 0s 239us/sample - loss: 0.0032 - acc: 1.0000 - val_loss: 0.5535 - val_acc: 0.8500\n",
      "Epoch 97/100\n",
      "1080/1080 [==============================] - 0s 240us/sample - loss: 0.0032 - acc: 1.0000 - val_loss: 0.5506 - val_acc: 0.8417\n",
      "Epoch 98/100\n",
      "1080/1080 [==============================] - 0s 239us/sample - loss: 0.0031 - acc: 1.0000 - val_loss: 0.5461 - val_acc: 0.8583\n",
      "Epoch 99/100\n",
      "1080/1080 [==============================] - 0s 241us/sample - loss: 0.0031 - acc: 1.0000 - val_loss: 0.5468 - val_acc: 0.8667\n",
      "Epoch 100/100\n",
      "1080/1080 [==============================] - 0s 240us/sample - loss: 0.0031 - acc: 1.0000 - val_loss: 0.5537 - val_acc: 0.8417\n"
     ]
    },
    {
     "data": {
      "text/plain": [
       "<tensorflow.python.keras.callbacks.History at 0x7f1d13467668>"
      ]
     },
     "execution_count": 150,
     "metadata": {},
     "output_type": "execute_result"
    }
   ],
   "source": [
    "model.compile(loss=\"categorical_crossentropy\", optimizer=SGD(lr=learning_rate), metrics=[\"accuracy\"])\n",
    "model.fit(X_train, Y_train,\n",
    "          epochs = 100,\n",
    "          validation_data=(X_test, Y_test))"
   ]
  },
  {
   "cell_type": "markdown",
   "metadata": {},
   "source": [
    "Pour finir ce notebook, nous allons sauvegarder les paramètres de notre modèle si nous voulons l'utiliser à nouveau plus tard."
   ]
  },
  {
   "cell_type": "code",
   "execution_count": 151,
   "metadata": {},
   "outputs": [],
   "source": [
    "model.save_weights(\"model.h5\")"
   ]
  },
  {
   "cell_type": "code",
   "execution_count": null,
   "metadata": {},
   "outputs": [],
   "source": []
  }
 ],
 "metadata": {
  "kernelspec": {
   "display_name": "Python 3",
   "language": "python",
   "name": "python3"
  },
  "language_info": {
   "codemirror_mode": {
    "name": "ipython",
    "version": 3
   },
   "file_extension": ".py",
   "mimetype": "text/x-python",
   "name": "python",
   "nbconvert_exporter": "python",
   "pygments_lexer": "ipython3",
   "version": "3.7.3"
  }
 },
 "nbformat": 4,
 "nbformat_minor": 2
}
